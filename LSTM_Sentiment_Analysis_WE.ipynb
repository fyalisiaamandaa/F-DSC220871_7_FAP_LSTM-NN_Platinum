{
  "cells": [
    {
      "cell_type": "markdown",
      "metadata": {
        "id": "YtjGKiAAhl6d"
      },
      "source": [
        "**LSTM**"
      ]
    },
    {
      "cell_type": "code",
      "execution_count": null,
      "metadata": {
        "colab": {
          "base_uri": "https://localhost:8080/"
        },
        "id": "5ryu5cM6_7di",
        "outputId": "1f06bde1-e9a8-46f9-a2fd-c475751c8b90"
      },
      "outputs": [
        {
          "output_type": "stream",
          "name": "stdout",
          "text": [
            "Requirement already satisfied: PySastrawi in /usr/local/lib/python3.10/dist-packages (1.2.0)\n"
          ]
        }
      ],
      "source": [
        "pip install PySastrawi"
      ]
    },
    {
      "cell_type": "code",
      "execution_count": null,
      "metadata": {
        "colab": {
          "base_uri": "https://localhost:8080/"
        },
        "id": "CkIIHXiYhpeK",
        "outputId": "58473277-b8fb-4a4b-c4a8-cbcb0eb11dec"
      },
      "outputs": [
        {
          "output_type": "stream",
          "name": "stderr",
          "text": [
            "[nltk_data] Downloading package stopwords to /root/nltk_data...\n",
            "[nltk_data]   Package stopwords is already up-to-date!\n",
            "[nltk_data] Downloading collection 'all'\n",
            "[nltk_data]    | \n",
            "[nltk_data]    | Downloading package abc to /root/nltk_data...\n",
            "[nltk_data]    |   Package abc is already up-to-date!\n",
            "[nltk_data]    | Downloading package alpino to /root/nltk_data...\n",
            "[nltk_data]    |   Package alpino is already up-to-date!\n",
            "[nltk_data]    | Downloading package averaged_perceptron_tagger to\n",
            "[nltk_data]    |     /root/nltk_data...\n",
            "[nltk_data]    |   Package averaged_perceptron_tagger is already up-\n",
            "[nltk_data]    |       to-date!\n",
            "[nltk_data]    | Downloading package averaged_perceptron_tagger_ru to\n",
            "[nltk_data]    |     /root/nltk_data...\n",
            "[nltk_data]    |   Package averaged_perceptron_tagger_ru is already\n",
            "[nltk_data]    |       up-to-date!\n",
            "[nltk_data]    | Downloading package basque_grammars to\n",
            "[nltk_data]    |     /root/nltk_data...\n",
            "[nltk_data]    |   Package basque_grammars is already up-to-date!\n",
            "[nltk_data]    | Downloading package bcp47 to /root/nltk_data...\n",
            "[nltk_data]    |   Package bcp47 is already up-to-date!\n",
            "[nltk_data]    | Downloading package biocreative_ppi to\n",
            "[nltk_data]    |     /root/nltk_data...\n",
            "[nltk_data]    |   Package biocreative_ppi is already up-to-date!\n",
            "[nltk_data]    | Downloading package bllip_wsj_no_aux to\n",
            "[nltk_data]    |     /root/nltk_data...\n",
            "[nltk_data]    |   Package bllip_wsj_no_aux is already up-to-date!\n",
            "[nltk_data]    | Downloading package book_grammars to\n",
            "[nltk_data]    |     /root/nltk_data...\n",
            "[nltk_data]    |   Package book_grammars is already up-to-date!\n",
            "[nltk_data]    | Downloading package brown to /root/nltk_data...\n",
            "[nltk_data]    |   Package brown is already up-to-date!\n",
            "[nltk_data]    | Downloading package brown_tei to /root/nltk_data...\n",
            "[nltk_data]    |   Package brown_tei is already up-to-date!\n",
            "[nltk_data]    | Downloading package cess_cat to /root/nltk_data...\n",
            "[nltk_data]    |   Package cess_cat is already up-to-date!\n",
            "[nltk_data]    | Downloading package cess_esp to /root/nltk_data...\n",
            "[nltk_data]    |   Package cess_esp is already up-to-date!\n",
            "[nltk_data]    | Downloading package chat80 to /root/nltk_data...\n",
            "[nltk_data]    |   Package chat80 is already up-to-date!\n",
            "[nltk_data]    | Downloading package city_database to\n",
            "[nltk_data]    |     /root/nltk_data...\n",
            "[nltk_data]    |   Package city_database is already up-to-date!\n",
            "[nltk_data]    | Downloading package cmudict to /root/nltk_data...\n",
            "[nltk_data]    |   Package cmudict is already up-to-date!\n",
            "[nltk_data]    | Downloading package comparative_sentences to\n",
            "[nltk_data]    |     /root/nltk_data...\n",
            "[nltk_data]    |   Package comparative_sentences is already up-to-\n",
            "[nltk_data]    |       date!\n",
            "[nltk_data]    | Downloading package comtrans to /root/nltk_data...\n",
            "[nltk_data]    |   Package comtrans is already up-to-date!\n",
            "[nltk_data]    | Downloading package conll2000 to /root/nltk_data...\n",
            "[nltk_data]    |   Package conll2000 is already up-to-date!\n",
            "[nltk_data]    | Downloading package conll2002 to /root/nltk_data...\n",
            "[nltk_data]    |   Package conll2002 is already up-to-date!\n",
            "[nltk_data]    | Downloading package conll2007 to /root/nltk_data...\n",
            "[nltk_data]    |   Package conll2007 is already up-to-date!\n",
            "[nltk_data]    | Downloading package crubadan to /root/nltk_data...\n",
            "[nltk_data]    |   Package crubadan is already up-to-date!\n",
            "[nltk_data]    | Downloading package dependency_treebank to\n",
            "[nltk_data]    |     /root/nltk_data...\n",
            "[nltk_data]    |   Package dependency_treebank is already up-to-date!\n",
            "[nltk_data]    | Downloading package dolch to /root/nltk_data...\n",
            "[nltk_data]    |   Package dolch is already up-to-date!\n",
            "[nltk_data]    | Downloading package europarl_raw to\n",
            "[nltk_data]    |     /root/nltk_data...\n",
            "[nltk_data]    |   Package europarl_raw is already up-to-date!\n",
            "[nltk_data]    | Downloading package extended_omw to\n",
            "[nltk_data]    |     /root/nltk_data...\n",
            "[nltk_data]    |   Package extended_omw is already up-to-date!\n",
            "[nltk_data]    | Downloading package floresta to /root/nltk_data...\n",
            "[nltk_data]    |   Package floresta is already up-to-date!\n",
            "[nltk_data]    | Downloading package framenet_v15 to\n",
            "[nltk_data]    |     /root/nltk_data...\n",
            "[nltk_data]    |   Package framenet_v15 is already up-to-date!\n",
            "[nltk_data]    | Downloading package framenet_v17 to\n",
            "[nltk_data]    |     /root/nltk_data...\n",
            "[nltk_data]    |   Package framenet_v17 is already up-to-date!\n",
            "[nltk_data]    | Downloading package gazetteers to /root/nltk_data...\n",
            "[nltk_data]    |   Package gazetteers is already up-to-date!\n",
            "[nltk_data]    | Downloading package genesis to /root/nltk_data...\n",
            "[nltk_data]    |   Package genesis is already up-to-date!\n",
            "[nltk_data]    | Downloading package gutenberg to /root/nltk_data...\n",
            "[nltk_data]    |   Package gutenberg is already up-to-date!\n",
            "[nltk_data]    | Downloading package ieer to /root/nltk_data...\n",
            "[nltk_data]    |   Package ieer is already up-to-date!\n",
            "[nltk_data]    | Downloading package inaugural to /root/nltk_data...\n",
            "[nltk_data]    |   Package inaugural is already up-to-date!\n",
            "[nltk_data]    | Downloading package indian to /root/nltk_data...\n",
            "[nltk_data]    |   Package indian is already up-to-date!\n",
            "[nltk_data]    | Downloading package jeita to /root/nltk_data...\n",
            "[nltk_data]    |   Package jeita is already up-to-date!\n",
            "[nltk_data]    | Downloading package kimmo to /root/nltk_data...\n",
            "[nltk_data]    |   Package kimmo is already up-to-date!\n",
            "[nltk_data]    | Downloading package knbc to /root/nltk_data...\n",
            "[nltk_data]    |   Package knbc is already up-to-date!\n",
            "[nltk_data]    | Downloading package large_grammars to\n",
            "[nltk_data]    |     /root/nltk_data...\n",
            "[nltk_data]    |   Package large_grammars is already up-to-date!\n",
            "[nltk_data]    | Downloading package lin_thesaurus to\n",
            "[nltk_data]    |     /root/nltk_data...\n",
            "[nltk_data]    |   Package lin_thesaurus is already up-to-date!\n",
            "[nltk_data]    | Downloading package mac_morpho to /root/nltk_data...\n",
            "[nltk_data]    |   Package mac_morpho is already up-to-date!\n",
            "[nltk_data]    | Downloading package machado to /root/nltk_data...\n",
            "[nltk_data]    |   Package machado is already up-to-date!\n",
            "[nltk_data]    | Downloading package masc_tagged to /root/nltk_data...\n",
            "[nltk_data]    |   Package masc_tagged is already up-to-date!\n",
            "[nltk_data]    | Downloading package maxent_ne_chunker to\n",
            "[nltk_data]    |     /root/nltk_data...\n",
            "[nltk_data]    |   Package maxent_ne_chunker is already up-to-date!\n",
            "[nltk_data]    | Downloading package maxent_treebank_pos_tagger to\n",
            "[nltk_data]    |     /root/nltk_data...\n",
            "[nltk_data]    |   Package maxent_treebank_pos_tagger is already up-\n",
            "[nltk_data]    |       to-date!\n",
            "[nltk_data]    | Downloading package moses_sample to\n",
            "[nltk_data]    |     /root/nltk_data...\n",
            "[nltk_data]    |   Package moses_sample is already up-to-date!\n",
            "[nltk_data]    | Downloading package movie_reviews to\n",
            "[nltk_data]    |     /root/nltk_data...\n",
            "[nltk_data]    |   Package movie_reviews is already up-to-date!\n",
            "[nltk_data]    | Downloading package mte_teip5 to /root/nltk_data...\n",
            "[nltk_data]    |   Package mte_teip5 is already up-to-date!\n",
            "[nltk_data]    | Downloading package mwa_ppdb to /root/nltk_data...\n",
            "[nltk_data]    |   Package mwa_ppdb is already up-to-date!\n",
            "[nltk_data]    | Downloading package names to /root/nltk_data...\n",
            "[nltk_data]    |   Package names is already up-to-date!\n",
            "[nltk_data]    | Downloading package nombank.1.0 to /root/nltk_data...\n",
            "[nltk_data]    |   Package nombank.1.0 is already up-to-date!\n",
            "[nltk_data]    | Downloading package nonbreaking_prefixes to\n",
            "[nltk_data]    |     /root/nltk_data...\n",
            "[nltk_data]    |   Package nonbreaking_prefixes is already up-to-date!\n",
            "[nltk_data]    | Downloading package nps_chat to /root/nltk_data...\n",
            "[nltk_data]    |   Package nps_chat is already up-to-date!\n",
            "[nltk_data]    | Downloading package omw to /root/nltk_data...\n",
            "[nltk_data]    |   Package omw is already up-to-date!\n",
            "[nltk_data]    | Downloading package omw-1.4 to /root/nltk_data...\n",
            "[nltk_data]    |   Package omw-1.4 is already up-to-date!\n",
            "[nltk_data]    | Downloading package opinion_lexicon to\n",
            "[nltk_data]    |     /root/nltk_data...\n",
            "[nltk_data]    |   Package opinion_lexicon is already up-to-date!\n",
            "[nltk_data]    | Downloading package panlex_swadesh to\n",
            "[nltk_data]    |     /root/nltk_data...\n",
            "[nltk_data]    |   Package panlex_swadesh is already up-to-date!\n",
            "[nltk_data]    | Downloading package paradigms to /root/nltk_data...\n",
            "[nltk_data]    |   Package paradigms is already up-to-date!\n",
            "[nltk_data]    | Downloading package pe08 to /root/nltk_data...\n",
            "[nltk_data]    |   Package pe08 is already up-to-date!\n",
            "[nltk_data]    | Downloading package perluniprops to\n",
            "[nltk_data]    |     /root/nltk_data...\n",
            "[nltk_data]    |   Package perluniprops is already up-to-date!\n",
            "[nltk_data]    | Downloading package pil to /root/nltk_data...\n",
            "[nltk_data]    |   Package pil is already up-to-date!\n",
            "[nltk_data]    | Downloading package pl196x to /root/nltk_data...\n",
            "[nltk_data]    |   Package pl196x is already up-to-date!\n",
            "[nltk_data]    | Downloading package porter_test to /root/nltk_data...\n",
            "[nltk_data]    |   Package porter_test is already up-to-date!\n",
            "[nltk_data]    | Downloading package ppattach to /root/nltk_data...\n",
            "[nltk_data]    |   Package ppattach is already up-to-date!\n",
            "[nltk_data]    | Downloading package problem_reports to\n",
            "[nltk_data]    |     /root/nltk_data...\n",
            "[nltk_data]    |   Package problem_reports is already up-to-date!\n",
            "[nltk_data]    | Downloading package product_reviews_1 to\n",
            "[nltk_data]    |     /root/nltk_data...\n",
            "[nltk_data]    |   Package product_reviews_1 is already up-to-date!\n",
            "[nltk_data]    | Downloading package product_reviews_2 to\n",
            "[nltk_data]    |     /root/nltk_data...\n",
            "[nltk_data]    |   Package product_reviews_2 is already up-to-date!\n",
            "[nltk_data]    | Downloading package propbank to /root/nltk_data...\n",
            "[nltk_data]    |   Package propbank is already up-to-date!\n",
            "[nltk_data]    | Downloading package pros_cons to /root/nltk_data...\n",
            "[nltk_data]    |   Package pros_cons is already up-to-date!\n",
            "[nltk_data]    | Downloading package ptb to /root/nltk_data...\n",
            "[nltk_data]    |   Package ptb is already up-to-date!\n",
            "[nltk_data]    | Downloading package punkt to /root/nltk_data...\n",
            "[nltk_data]    |   Package punkt is already up-to-date!\n",
            "[nltk_data]    | Downloading package qc to /root/nltk_data...\n",
            "[nltk_data]    |   Package qc is already up-to-date!\n",
            "[nltk_data]    | Downloading package reuters to /root/nltk_data...\n",
            "[nltk_data]    |   Package reuters is already up-to-date!\n",
            "[nltk_data]    | Downloading package rslp to /root/nltk_data...\n",
            "[nltk_data]    |   Package rslp is already up-to-date!\n",
            "[nltk_data]    | Downloading package rte to /root/nltk_data...\n",
            "[nltk_data]    |   Package rte is already up-to-date!\n",
            "[nltk_data]    | Downloading package sample_grammars to\n",
            "[nltk_data]    |     /root/nltk_data...\n",
            "[nltk_data]    |   Package sample_grammars is already up-to-date!\n",
            "[nltk_data]    | Downloading package semcor to /root/nltk_data...\n",
            "[nltk_data]    |   Package semcor is already up-to-date!\n",
            "[nltk_data]    | Downloading package senseval to /root/nltk_data...\n",
            "[nltk_data]    |   Package senseval is already up-to-date!\n",
            "[nltk_data]    | Downloading package sentence_polarity to\n",
            "[nltk_data]    |     /root/nltk_data...\n",
            "[nltk_data]    |   Package sentence_polarity is already up-to-date!\n",
            "[nltk_data]    | Downloading package sentiwordnet to\n",
            "[nltk_data]    |     /root/nltk_data...\n",
            "[nltk_data]    |   Package sentiwordnet is already up-to-date!\n",
            "[nltk_data]    | Downloading package shakespeare to /root/nltk_data...\n",
            "[nltk_data]    |   Package shakespeare is already up-to-date!\n",
            "[nltk_data]    | Downloading package sinica_treebank to\n",
            "[nltk_data]    |     /root/nltk_data...\n",
            "[nltk_data]    |   Package sinica_treebank is already up-to-date!\n",
            "[nltk_data]    | Downloading package smultron to /root/nltk_data...\n",
            "[nltk_data]    |   Package smultron is already up-to-date!\n",
            "[nltk_data]    | Downloading package snowball_data to\n",
            "[nltk_data]    |     /root/nltk_data...\n",
            "[nltk_data]    |   Package snowball_data is already up-to-date!\n",
            "[nltk_data]    | Downloading package spanish_grammars to\n",
            "[nltk_data]    |     /root/nltk_data...\n",
            "[nltk_data]    |   Package spanish_grammars is already up-to-date!\n",
            "[nltk_data]    | Downloading package state_union to /root/nltk_data...\n",
            "[nltk_data]    |   Package state_union is already up-to-date!\n",
            "[nltk_data]    | Downloading package stopwords to /root/nltk_data...\n",
            "[nltk_data]    |   Package stopwords is already up-to-date!\n",
            "[nltk_data]    | Downloading package subjectivity to\n",
            "[nltk_data]    |     /root/nltk_data...\n",
            "[nltk_data]    |   Package subjectivity is already up-to-date!\n",
            "[nltk_data]    | Downloading package swadesh to /root/nltk_data...\n",
            "[nltk_data]    |   Package swadesh is already up-to-date!\n",
            "[nltk_data]    | Downloading package switchboard to /root/nltk_data...\n",
            "[nltk_data]    |   Package switchboard is already up-to-date!\n",
            "[nltk_data]    | Downloading package tagsets to /root/nltk_data...\n",
            "[nltk_data]    |   Package tagsets is already up-to-date!\n",
            "[nltk_data]    | Downloading package timit to /root/nltk_data...\n",
            "[nltk_data]    |   Package timit is already up-to-date!\n",
            "[nltk_data]    | Downloading package toolbox to /root/nltk_data...\n",
            "[nltk_data]    |   Package toolbox is already up-to-date!\n",
            "[nltk_data]    | Downloading package treebank to /root/nltk_data...\n",
            "[nltk_data]    |   Package treebank is already up-to-date!\n",
            "[nltk_data]    | Downloading package twitter_samples to\n",
            "[nltk_data]    |     /root/nltk_data...\n",
            "[nltk_data]    |   Package twitter_samples is already up-to-date!\n",
            "[nltk_data]    | Downloading package udhr to /root/nltk_data...\n",
            "[nltk_data]    |   Package udhr is already up-to-date!\n",
            "[nltk_data]    | Downloading package udhr2 to /root/nltk_data...\n",
            "[nltk_data]    |   Package udhr2 is already up-to-date!\n",
            "[nltk_data]    | Downloading package unicode_samples to\n",
            "[nltk_data]    |     /root/nltk_data...\n",
            "[nltk_data]    |   Package unicode_samples is already up-to-date!\n",
            "[nltk_data]    | Downloading package universal_tagset to\n",
            "[nltk_data]    |     /root/nltk_data...\n",
            "[nltk_data]    |   Package universal_tagset is already up-to-date!\n",
            "[nltk_data]    | Downloading package universal_treebanks_v20 to\n",
            "[nltk_data]    |     /root/nltk_data...\n",
            "[nltk_data]    |   Package universal_treebanks_v20 is already up-to-\n",
            "[nltk_data]    |       date!\n",
            "[nltk_data]    | Downloading package vader_lexicon to\n",
            "[nltk_data]    |     /root/nltk_data...\n",
            "[nltk_data]    |   Package vader_lexicon is already up-to-date!\n",
            "[nltk_data]    | Downloading package verbnet to /root/nltk_data...\n",
            "[nltk_data]    |   Package verbnet is already up-to-date!\n",
            "[nltk_data]    | Downloading package verbnet3 to /root/nltk_data...\n",
            "[nltk_data]    |   Package verbnet3 is already up-to-date!\n",
            "[nltk_data]    | Downloading package webtext to /root/nltk_data...\n",
            "[nltk_data]    |   Package webtext is already up-to-date!\n",
            "[nltk_data]    | Downloading package wmt15_eval to /root/nltk_data...\n",
            "[nltk_data]    |   Package wmt15_eval is already up-to-date!\n",
            "[nltk_data]    | Downloading package word2vec_sample to\n",
            "[nltk_data]    |     /root/nltk_data...\n",
            "[nltk_data]    |   Package word2vec_sample is already up-to-date!\n",
            "[nltk_data]    | Downloading package wordnet to /root/nltk_data...\n",
            "[nltk_data]    |   Package wordnet is already up-to-date!\n",
            "[nltk_data]    | Downloading package wordnet2021 to /root/nltk_data...\n",
            "[nltk_data]    |   Package wordnet2021 is already up-to-date!\n",
            "[nltk_data]    | Downloading package wordnet2022 to /root/nltk_data...\n",
            "[nltk_data]    |   Package wordnet2022 is already up-to-date!\n",
            "[nltk_data]    | Downloading package wordnet31 to /root/nltk_data...\n",
            "[nltk_data]    |   Package wordnet31 is already up-to-date!\n",
            "[nltk_data]    | Downloading package wordnet_ic to /root/nltk_data...\n",
            "[nltk_data]    |   Package wordnet_ic is already up-to-date!\n",
            "[nltk_data]    | Downloading package words to /root/nltk_data...\n",
            "[nltk_data]    |   Package words is already up-to-date!\n",
            "[nltk_data]    | Downloading package ycoe to /root/nltk_data...\n",
            "[nltk_data]    |   Package ycoe is already up-to-date!\n",
            "[nltk_data]    | \n",
            "[nltk_data]  Done downloading collection all\n"
          ]
        },
        {
          "output_type": "execute_result",
          "data": {
            "text/plain": [
              "True"
            ]
          },
          "metadata": {},
          "execution_count": 11
        }
      ],
      "source": [
        "import pandas as pd\n",
        "import numpy as np\n",
        "import re\n",
        "import seaborn as sns\n",
        "import matplotlib.pyplot as plt\n",
        "import nltk\n",
        "import sklearn\n",
        "import tensorflow as tf\n",
        "import pickle\n",
        "import tensorflow.keras as keras\n",
        "import tensorflow as tf\n",
        "import keras\n",
        "from sklearn.metrics import classification_report\n",
        "from sklearn import metrics\n",
        "from sklearn.neural_network import MLPClassifier\n",
        "from sklearn.preprocessing import LabelEncoder\n",
        "from sklearn.model_selection import train_test_split\n",
        "from tensorflow.keras.preprocessing.sequence import pad_sequences\n",
        "from keras.preprocessing.text import Tokenizer\n",
        "from tensorflow.keras.models import load_model\n",
        "from tensorflow.keras.callbacks import EarlyStopping\n",
        "from tensorflow.keras.regularizers import l1\n",
        "from tensorflow.keras.regularizers import l2\n",
        "from tensorflow.keras.regularizers import L1L2\n",
        "from keras.optimizers import Adam, RMSprop, SGD\n",
        "from keras.wrappers.scikit_learn import KerasClassifier\n",
        "from sklearn.model_selection import KFold\n",
        "from keras.models import Sequential\n",
        "from keras.layers import Embedding, Dense, Dropout, LSTM\n",
        "from sklearn.metrics import accuracy_score\n",
        "from sklearn.feature_extraction.text import CountVectorizer\n",
        "from sklearn.feature_extraction.text import TfidfVectorizer\n",
        "from nltk.tokenize import word_tokenize\n",
        "from nltk.tokenize import sent_tokenize\n",
        "from nltk.stem import WordNetLemmatizer\n",
        "from nltk.corpus import stopwords\n",
        "from sklearn.metrics import confusion_matrix\n",
        "from Sastrawi.Stemmer.StemmerFactory import StemmerFactory\n",
        "#from terbilang import Terbilang\n",
        "\n",
        "#t = Terbilang()\n",
        "nltk.download('stopwords')\n",
        "nltk.download('all')"
      ]
    },
    {
      "cell_type": "code",
      "execution_count": null,
      "metadata": {
        "id": "u_G0kzj9huwh"
      },
      "outputs": [],
      "source": [
        "#to print complete sentence\n",
        "pd.options.display.max_colwidth = 500"
      ]
    },
    {
      "cell_type": "code",
      "execution_count": null,
      "metadata": {
        "colab": {
          "base_uri": "https://localhost:8080/",
          "height": 206
        },
        "id": "OFG-0vVcLo07",
        "outputId": "d2a1c173-1314-4cb3-9142-546c69b536fb"
      },
      "outputs": [
        {
          "output_type": "execute_result",
          "data": {
            "text/plain": [
              "                   old                       new\n",
              "0  anakjakartaasikasik  anak jakarta asyik asyik\n",
              "1         pakcikdahtua         pak cik sudah tua\n",
              "2       pakcikmudalagi         pak cik muda lagi\n",
              "3          t3tapjokowi              tetap jokowi\n",
              "4                   3x                 tiga kali"
            ],
            "text/html": [
              "\n",
              "  <div id=\"df-34641c40-f077-43cd-b2be-6e56e5780ae1\">\n",
              "    <div class=\"colab-df-container\">\n",
              "      <div>\n",
              "<style scoped>\n",
              "    .dataframe tbody tr th:only-of-type {\n",
              "        vertical-align: middle;\n",
              "    }\n",
              "\n",
              "    .dataframe tbody tr th {\n",
              "        vertical-align: top;\n",
              "    }\n",
              "\n",
              "    .dataframe thead th {\n",
              "        text-align: right;\n",
              "    }\n",
              "</style>\n",
              "<table border=\"1\" class=\"dataframe\">\n",
              "  <thead>\n",
              "    <tr style=\"text-align: right;\">\n",
              "      <th></th>\n",
              "      <th>old</th>\n",
              "      <th>new</th>\n",
              "    </tr>\n",
              "  </thead>\n",
              "  <tbody>\n",
              "    <tr>\n",
              "      <th>0</th>\n",
              "      <td>anakjakartaasikasik</td>\n",
              "      <td>anak jakarta asyik asyik</td>\n",
              "    </tr>\n",
              "    <tr>\n",
              "      <th>1</th>\n",
              "      <td>pakcikdahtua</td>\n",
              "      <td>pak cik sudah tua</td>\n",
              "    </tr>\n",
              "    <tr>\n",
              "      <th>2</th>\n",
              "      <td>pakcikmudalagi</td>\n",
              "      <td>pak cik muda lagi</td>\n",
              "    </tr>\n",
              "    <tr>\n",
              "      <th>3</th>\n",
              "      <td>t3tapjokowi</td>\n",
              "      <td>tetap jokowi</td>\n",
              "    </tr>\n",
              "    <tr>\n",
              "      <th>4</th>\n",
              "      <td>3x</td>\n",
              "      <td>tiga kali</td>\n",
              "    </tr>\n",
              "  </tbody>\n",
              "</table>\n",
              "</div>\n",
              "      <button class=\"colab-df-convert\" onclick=\"convertToInteractive('df-34641c40-f077-43cd-b2be-6e56e5780ae1')\"\n",
              "              title=\"Convert this dataframe to an interactive table.\"\n",
              "              style=\"display:none;\">\n",
              "        \n",
              "  <svg xmlns=\"http://www.w3.org/2000/svg\" height=\"24px\"viewBox=\"0 0 24 24\"\n",
              "       width=\"24px\">\n",
              "    <path d=\"M0 0h24v24H0V0z\" fill=\"none\"/>\n",
              "    <path d=\"M18.56 5.44l.94 2.06.94-2.06 2.06-.94-2.06-.94-.94-2.06-.94 2.06-2.06.94zm-11 1L8.5 8.5l.94-2.06 2.06-.94-2.06-.94L8.5 2.5l-.94 2.06-2.06.94zm10 10l.94 2.06.94-2.06 2.06-.94-2.06-.94-.94-2.06-.94 2.06-2.06.94z\"/><path d=\"M17.41 7.96l-1.37-1.37c-.4-.4-.92-.59-1.43-.59-.52 0-1.04.2-1.43.59L10.3 9.45l-7.72 7.72c-.78.78-.78 2.05 0 2.83L4 21.41c.39.39.9.59 1.41.59.51 0 1.02-.2 1.41-.59l7.78-7.78 2.81-2.81c.8-.78.8-2.07 0-2.86zM5.41 20L4 18.59l7.72-7.72 1.47 1.35L5.41 20z\"/>\n",
              "  </svg>\n",
              "      </button>\n",
              "      \n",
              "  <style>\n",
              "    .colab-df-container {\n",
              "      display:flex;\n",
              "      flex-wrap:wrap;\n",
              "      gap: 12px;\n",
              "    }\n",
              "\n",
              "    .colab-df-convert {\n",
              "      background-color: #E8F0FE;\n",
              "      border: none;\n",
              "      border-radius: 50%;\n",
              "      cursor: pointer;\n",
              "      display: none;\n",
              "      fill: #1967D2;\n",
              "      height: 32px;\n",
              "      padding: 0 0 0 0;\n",
              "      width: 32px;\n",
              "    }\n",
              "\n",
              "    .colab-df-convert:hover {\n",
              "      background-color: #E2EBFA;\n",
              "      box-shadow: 0px 1px 2px rgba(60, 64, 67, 0.3), 0px 1px 3px 1px rgba(60, 64, 67, 0.15);\n",
              "      fill: #174EA6;\n",
              "    }\n",
              "\n",
              "    [theme=dark] .colab-df-convert {\n",
              "      background-color: #3B4455;\n",
              "      fill: #D2E3FC;\n",
              "    }\n",
              "\n",
              "    [theme=dark] .colab-df-convert:hover {\n",
              "      background-color: #434B5C;\n",
              "      box-shadow: 0px 1px 3px 1px rgba(0, 0, 0, 0.15);\n",
              "      filter: drop-shadow(0px 1px 2px rgba(0, 0, 0, 0.3));\n",
              "      fill: #FFFFFF;\n",
              "    }\n",
              "  </style>\n",
              "\n",
              "      <script>\n",
              "        const buttonEl =\n",
              "          document.querySelector('#df-34641c40-f077-43cd-b2be-6e56e5780ae1 button.colab-df-convert');\n",
              "        buttonEl.style.display =\n",
              "          google.colab.kernel.accessAllowed ? 'block' : 'none';\n",
              "\n",
              "        async function convertToInteractive(key) {\n",
              "          const element = document.querySelector('#df-34641c40-f077-43cd-b2be-6e56e5780ae1');\n",
              "          const dataTable =\n",
              "            await google.colab.kernel.invokeFunction('convertToInteractive',\n",
              "                                                     [key], {});\n",
              "          if (!dataTable) return;\n",
              "\n",
              "          const docLinkHtml = 'Like what you see? Visit the ' +\n",
              "            '<a target=\"_blank\" href=https://colab.research.google.com/notebooks/data_table.ipynb>data table notebook</a>'\n",
              "            + ' to learn more about interactive tables.';\n",
              "          element.innerHTML = '';\n",
              "          dataTable['output_type'] = 'display_data';\n",
              "          await google.colab.output.renderOutput(dataTable, element);\n",
              "          const docLink = document.createElement('div');\n",
              "          docLink.innerHTML = docLinkHtml;\n",
              "          element.appendChild(docLink);\n",
              "        }\n",
              "      </script>\n",
              "    </div>\n",
              "  </div>\n",
              "  "
            ]
          },
          "metadata": {},
          "execution_count": 13
        }
      ],
      "source": [
        "#kamus\n",
        "kamusalay = pd.read_csv('new_kamusalay.csv', encoding =  'ISO-8859-1', names=['old','new'])\n",
        "kamusalay .head()"
      ]
    },
    {
      "cell_type": "code",
      "execution_count": null,
      "metadata": {
        "id": "BJJX8MPrhy6-"
      },
      "outputs": [],
      "source": [
        "file_path = \"train_preprocess.tsv.txt\"\n",
        "df = pd.read_csv(file_path, delimiter='\\t', names=[\"Tweet\", \"Sentimen\"])\n",
        "#print(type(df[\"data\"]))\n",
        "#print(df[\"data\"])"
      ]
    },
    {
      "cell_type": "code",
      "execution_count": null,
      "metadata": {
        "colab": {
          "base_uri": "https://localhost:8080/",
          "height": 319
        },
        "id": "KaIhjIx9hy92",
        "outputId": "f5216fde-864e-4704-f468-0f38d577cd1f"
      },
      "outputs": [
        {
          "output_type": "execute_result",
          "data": {
            "text/plain": [
              "                                                                                                                                                                                                                                                                                                                                                                                                                  Tweet  \\\n",
              "0  warung ini dimiliki oleh pengusaha pabrik tahu yang sudah puluhan tahun terkenal membuat tahu putih di bandung . tahu berkualitas , dipadu keahlian memasak , dipadu kretivitas , jadilah warung yang menyajikan menu utama berbahan tahu , ditambah menu umum lain seperti ayam . semuanya selera indonesia . harga cukup terjangkau . jangan lewatkan tahu bletoka nya , tidak kalah dengan yang asli dari tegal !   \n",
              "1                                                                                                                                                                                                                                                                                                                mohon ulama lurus dan k212 mmbri hujjah partai apa yang harus diwlh agar suara islam tidak pecah-pecah   \n",
              "2                                                                                                                                                                                                                              lokasi strategis di jalan sumatera bandung . tempat nya nyaman terutama sofa di lantai 2 . paella nya enak , sangat pas dimakan dengan minum bir dingin . appetiser nya juga enak-enak .   \n",
              "3                                                                                                                                                                                                                                                                                                                         betapa bahagia nya diri ini saat unboxing paket dan barang nya bagus ! menetapkan beli lagi !   \n",
              "4                                                                                                                                                                                                duh . jadi mahasiswa jangan sombong dong . kasih kartu kuning segala . belajar dulu yang baik , tidak usahlah ikut-ikut politik . nanti sudah selesai kuliah nya mau ikut politik juga tidak telat . dasar mahasiswa .   \n",
              "\n",
              "   Sentimen  \n",
              "0  positive  \n",
              "1   neutral  \n",
              "2  positive  \n",
              "3  positive  \n",
              "4  negative  "
            ],
            "text/html": [
              "\n",
              "  <div id=\"df-f621c7b4-c27a-41c8-b79b-e98764f66ea5\">\n",
              "    <div class=\"colab-df-container\">\n",
              "      <div>\n",
              "<style scoped>\n",
              "    .dataframe tbody tr th:only-of-type {\n",
              "        vertical-align: middle;\n",
              "    }\n",
              "\n",
              "    .dataframe tbody tr th {\n",
              "        vertical-align: top;\n",
              "    }\n",
              "\n",
              "    .dataframe thead th {\n",
              "        text-align: right;\n",
              "    }\n",
              "</style>\n",
              "<table border=\"1\" class=\"dataframe\">\n",
              "  <thead>\n",
              "    <tr style=\"text-align: right;\">\n",
              "      <th></th>\n",
              "      <th>Tweet</th>\n",
              "      <th>Sentimen</th>\n",
              "    </tr>\n",
              "  </thead>\n",
              "  <tbody>\n",
              "    <tr>\n",
              "      <th>0</th>\n",
              "      <td>warung ini dimiliki oleh pengusaha pabrik tahu yang sudah puluhan tahun terkenal membuat tahu putih di bandung . tahu berkualitas , dipadu keahlian memasak , dipadu kretivitas , jadilah warung yang menyajikan menu utama berbahan tahu , ditambah menu umum lain seperti ayam . semuanya selera indonesia . harga cukup terjangkau . jangan lewatkan tahu bletoka nya , tidak kalah dengan yang asli dari tegal !</td>\n",
              "      <td>positive</td>\n",
              "    </tr>\n",
              "    <tr>\n",
              "      <th>1</th>\n",
              "      <td>mohon ulama lurus dan k212 mmbri hujjah partai apa yang harus diwlh agar suara islam tidak pecah-pecah</td>\n",
              "      <td>neutral</td>\n",
              "    </tr>\n",
              "    <tr>\n",
              "      <th>2</th>\n",
              "      <td>lokasi strategis di jalan sumatera bandung . tempat nya nyaman terutama sofa di lantai 2 . paella nya enak , sangat pas dimakan dengan minum bir dingin . appetiser nya juga enak-enak .</td>\n",
              "      <td>positive</td>\n",
              "    </tr>\n",
              "    <tr>\n",
              "      <th>3</th>\n",
              "      <td>betapa bahagia nya diri ini saat unboxing paket dan barang nya bagus ! menetapkan beli lagi !</td>\n",
              "      <td>positive</td>\n",
              "    </tr>\n",
              "    <tr>\n",
              "      <th>4</th>\n",
              "      <td>duh . jadi mahasiswa jangan sombong dong . kasih kartu kuning segala . belajar dulu yang baik , tidak usahlah ikut-ikut politik . nanti sudah selesai kuliah nya mau ikut politik juga tidak telat . dasar mahasiswa .</td>\n",
              "      <td>negative</td>\n",
              "    </tr>\n",
              "  </tbody>\n",
              "</table>\n",
              "</div>\n",
              "      <button class=\"colab-df-convert\" onclick=\"convertToInteractive('df-f621c7b4-c27a-41c8-b79b-e98764f66ea5')\"\n",
              "              title=\"Convert this dataframe to an interactive table.\"\n",
              "              style=\"display:none;\">\n",
              "        \n",
              "  <svg xmlns=\"http://www.w3.org/2000/svg\" height=\"24px\"viewBox=\"0 0 24 24\"\n",
              "       width=\"24px\">\n",
              "    <path d=\"M0 0h24v24H0V0z\" fill=\"none\"/>\n",
              "    <path d=\"M18.56 5.44l.94 2.06.94-2.06 2.06-.94-2.06-.94-.94-2.06-.94 2.06-2.06.94zm-11 1L8.5 8.5l.94-2.06 2.06-.94-2.06-.94L8.5 2.5l-.94 2.06-2.06.94zm10 10l.94 2.06.94-2.06 2.06-.94-2.06-.94-.94-2.06-.94 2.06-2.06.94z\"/><path d=\"M17.41 7.96l-1.37-1.37c-.4-.4-.92-.59-1.43-.59-.52 0-1.04.2-1.43.59L10.3 9.45l-7.72 7.72c-.78.78-.78 2.05 0 2.83L4 21.41c.39.39.9.59 1.41.59.51 0 1.02-.2 1.41-.59l7.78-7.78 2.81-2.81c.8-.78.8-2.07 0-2.86zM5.41 20L4 18.59l7.72-7.72 1.47 1.35L5.41 20z\"/>\n",
              "  </svg>\n",
              "      </button>\n",
              "      \n",
              "  <style>\n",
              "    .colab-df-container {\n",
              "      display:flex;\n",
              "      flex-wrap:wrap;\n",
              "      gap: 12px;\n",
              "    }\n",
              "\n",
              "    .colab-df-convert {\n",
              "      background-color: #E8F0FE;\n",
              "      border: none;\n",
              "      border-radius: 50%;\n",
              "      cursor: pointer;\n",
              "      display: none;\n",
              "      fill: #1967D2;\n",
              "      height: 32px;\n",
              "      padding: 0 0 0 0;\n",
              "      width: 32px;\n",
              "    }\n",
              "\n",
              "    .colab-df-convert:hover {\n",
              "      background-color: #E2EBFA;\n",
              "      box-shadow: 0px 1px 2px rgba(60, 64, 67, 0.3), 0px 1px 3px 1px rgba(60, 64, 67, 0.15);\n",
              "      fill: #174EA6;\n",
              "    }\n",
              "\n",
              "    [theme=dark] .colab-df-convert {\n",
              "      background-color: #3B4455;\n",
              "      fill: #D2E3FC;\n",
              "    }\n",
              "\n",
              "    [theme=dark] .colab-df-convert:hover {\n",
              "      background-color: #434B5C;\n",
              "      box-shadow: 0px 1px 3px 1px rgba(0, 0, 0, 0.15);\n",
              "      filter: drop-shadow(0px 1px 2px rgba(0, 0, 0, 0.3));\n",
              "      fill: #FFFFFF;\n",
              "    }\n",
              "  </style>\n",
              "\n",
              "      <script>\n",
              "        const buttonEl =\n",
              "          document.querySelector('#df-f621c7b4-c27a-41c8-b79b-e98764f66ea5 button.colab-df-convert');\n",
              "        buttonEl.style.display =\n",
              "          google.colab.kernel.accessAllowed ? 'block' : 'none';\n",
              "\n",
              "        async function convertToInteractive(key) {\n",
              "          const element = document.querySelector('#df-f621c7b4-c27a-41c8-b79b-e98764f66ea5');\n",
              "          const dataTable =\n",
              "            await google.colab.kernel.invokeFunction('convertToInteractive',\n",
              "                                                     [key], {});\n",
              "          if (!dataTable) return;\n",
              "\n",
              "          const docLinkHtml = 'Like what you see? Visit the ' +\n",
              "            '<a target=\"_blank\" href=https://colab.research.google.com/notebooks/data_table.ipynb>data table notebook</a>'\n",
              "            + ' to learn more about interactive tables.';\n",
              "          element.innerHTML = '';\n",
              "          dataTable['output_type'] = 'display_data';\n",
              "          await google.colab.output.renderOutput(dataTable, element);\n",
              "          const docLink = document.createElement('div');\n",
              "          docLink.innerHTML = docLinkHtml;\n",
              "          element.appendChild(docLink);\n",
              "        }\n",
              "      </script>\n",
              "    </div>\n",
              "  </div>\n",
              "  "
            ]
          },
          "metadata": {},
          "execution_count": 15
        }
      ],
      "source": [
        "df.head()"
      ]
    },
    {
      "cell_type": "markdown",
      "metadata": {
        "id": "sM7LdnD1h5FL"
      },
      "source": [
        "**DATA CLEANSING**"
      ]
    },
    {
      "cell_type": "code",
      "execution_count": null,
      "metadata": {
        "id": "uiL8FlUMglcj"
      },
      "outputs": [],
      "source": [
        "def cleaning_data(text):\n",
        "    text = text.lower()\n",
        "    text=re.sub('url', '', text)\n",
        "    text = re.sub('url\\S+', '', text)\n",
        "    text=re.sub('http', '', text)\n",
        "    text = re.sub(r'http\\S+', '', text)\n",
        "    text = re.sub(r'%', ' persen', text)\n",
        "    text = re.sub(r' {2,}', ' ', text)\n",
        "    text=re.sub(r'(\\\\x(.){2})', '', text)\n",
        "    text = re.sub(r'[^a-zA-Z0-9]', ' ', text)\n",
        "    return text"
      ]
    },
    {
      "cell_type": "code",
      "execution_count": null,
      "metadata": {
        "id": "1FLvYFCVhzAX"
      },
      "outputs": [],
      "source": [
        "#def processText(text):\n",
        "    # process the text\n",
        "\n",
        "    #remove url\n",
        "#    text = re.sub('url', ' ', text)\n",
        "    #change Url+other word/special character\n",
        "#    text = re.sub('url\\S+', ' ', text)\n",
        "    #not remove letter and number for example delet3d 111 then 111 will be deleted but 3 not deleted\n",
        "#    text = re.sub(\"^\\d+\\s|\\s\\d+\\s|\\s\\d+$\", \" \", text)\n",
        "    #remove non alphanumeric\n",
        "#    text = re.sub(r'[^a-zA-Z0-9]', ' ',text)\n",
        "    #remove \\n\n",
        "#    text = re.sub(r'\\\\n', ' ',text)\n",
        "    #remove emoticon\n",
        "#    text = re.sub(r'(\\\\x(.){2})', ' ',text)\n",
        "    #Remove additional white spaces\n",
        "#    text = re.sub('[\\s]+', ' ', text)\n",
        "    #Replace #word with word\n",
        "#    text = re.sub(r'#([^\\s]+)', r'\\1', text)\n",
        "    #remove hastag\n",
        "#    text = re.sub(r'#[A-Za-z0-9]+', ' ', text)\n",
        "    #remove RT\n",
        "#    text = re.sub(r'RT[\\s]', ' ', text)\n",
        "    #remove link\n",
        "#    text = re.sub(r'http\\S+', ' ', text)\n",
        "    #remove number\n",
        "#    text = re.sub(r'[0-9]', ' ', text)\n",
        "#    return text\n",
        "#end"
      ]
    },
    {
      "cell_type": "code",
      "execution_count": null,
      "metadata": {
        "id": "05jlyyYShzC5"
      },
      "outputs": [],
      "source": [
        "# Converting all the characters in a text into lower case\n",
        "#def casefoldingText(text):\n",
        "#    text = text.lower()\n",
        "#    return text\n",
        "\n",
        "# Tokenizing or splitting a string, text into a list of tokens\n",
        "#def tokenizingText(text):\n",
        "#    text = word_tokenize(text)\n",
        "#    return text\n",
        "\n",
        "# Remove stopwors in a text\n",
        "#def filteringText(text):\n",
        "#    listStopwords = set(stopwords.words('indonesian'))\n",
        "#    filtered = []\n",
        "#    for txt in text:\n",
        "#        if txt not in listStopwords:\n",
        "#            filtered.append(txt)\n",
        "#    text = filtered\n",
        "#    return text\n",
        "\n",
        "# Lemmatize the tokens\n",
        "#def lemmaText(text):\n",
        "#    lemmatizer = WordNetLemmatizer()\n",
        "#    lemmatized_tokens = [lemmatizer.lemmatize(token) for token in text]\n",
        "#    return text\n",
        "\n",
        "#Convert list of words into sentence\n",
        "#def toSentence(list_words):\n",
        "#    sentence = ' '.join(word for word in list_words)\n",
        "#    return sentence\n",
        "\n",
        "# Reducing a word to its word stem that affixes to suffixes and prefixes or to the roots of words\n",
        "def stemmingText(text):\n",
        "    factory = StemmerFactory()\n",
        "    stemmer = factory.create_stemmer()\n",
        "    text = stemmer.stem(text)\n",
        "    #text = [stemmer.stem(word) for word in text]\n",
        "    return text"
      ]
    },
    {
      "cell_type": "markdown",
      "metadata": {
        "id": "brENx-2MeCDF"
      },
      "source": [
        "**SPLIT DATA TO LIST**"
      ]
    },
    {
      "cell_type": "code",
      "execution_count": null,
      "metadata": {
        "id": "Z48Ym_l8eAzr"
      },
      "outputs": [],
      "source": [
        "#split the data\n",
        "def convert(lst):\n",
        "    return ''.join(lst).split()"
      ]
    },
    {
      "cell_type": "markdown",
      "metadata": {
        "id": "ND282RfReHHc"
      },
      "source": [
        "**CHECK DATA WITH KAMUS ALAY**"
      ]
    },
    {
      "cell_type": "code",
      "execution_count": null,
      "metadata": {
        "id": "bMLmr-RGeK4Y"
      },
      "outputs": [],
      "source": [
        "# check with kamus alay\n",
        "def filter_data(text):\n",
        "        result = \"\"\n",
        "        tweets = text\n",
        "        #print(tweets)\n",
        "        temp=[]\n",
        "        for tweet in tweets:\n",
        "            try:\n",
        "                trying = np.where(kamusalay['old']==tweet)[0][0]\n",
        "                tweet = kamusalay['new'].iloc[trying]\n",
        "            except:\n",
        "                tweet = tweet\n",
        "            #print(tweet)\n",
        "            temp.append(tweet)\n",
        "            result = result + \" \" + tweet\n",
        "        return result"
      ]
    },
    {
      "cell_type": "code",
      "execution_count": null,
      "metadata": {
        "colab": {
          "base_uri": "https://localhost:8080/",
          "height": 441
        },
        "id": "cpbSgDkBhzFK",
        "outputId": "40f2cea5-210e-48fd-9de8-962a43e4a308"
      },
      "outputs": [
        {
          "output_type": "execute_result",
          "data": {
            "text/plain": [
              "                                                                                                                                                                                                                                                                                                                                                                                                                  Tweet  \\\n",
              "0  warung ini dimiliki oleh pengusaha pabrik tahu yang sudah puluhan tahun terkenal membuat tahu putih di bandung . tahu berkualitas , dipadu keahlian memasak , dipadu kretivitas , jadilah warung yang menyajikan menu utama berbahan tahu , ditambah menu umum lain seperti ayam . semuanya selera indonesia . harga cukup terjangkau . jangan lewatkan tahu bletoka nya , tidak kalah dengan yang asli dari tegal !   \n",
              "1                                                                                                                                                                                                                                                                                                                mohon ulama lurus dan k212 mmbri hujjah partai apa yang harus diwlh agar suara islam tidak pecah-pecah   \n",
              "2                                                                                                                                                                                                                              lokasi strategis di jalan sumatera bandung . tempat nya nyaman terutama sofa di lantai 2 . paella nya enak , sangat pas dimakan dengan minum bir dingin . appetiser nya juga enak-enak .   \n",
              "3                                                                                                                                                                                                                                                                                                                         betapa bahagia nya diri ini saat unboxing paket dan barang nya bagus ! menetapkan beli lagi !   \n",
              "4                                                                                                                                                                                                duh . jadi mahasiswa jangan sombong dong . kasih kartu kuning segala . belajar dulu yang baik , tidak usahlah ikut-ikut politik . nanti sudah selesai kuliah nya mau ikut politik juga tidak telat . dasar mahasiswa .   \n",
              "\n",
              "   Sentimen  \\\n",
              "0  positive   \n",
              "1   neutral   \n",
              "2  positive   \n",
              "3  positive   \n",
              "4  negative   \n",
              "\n",
              "                                                                                                                                                                                                                                                                                                                                     ReviewTweet  \n",
              "0  warung ini milik oleh usaha pabrik tahu yang sudah puluh tahun kenal buat tahu putih di bandung tahu kualitas padu ahli masak padu kretivitas jadi warung yang saji menu utama bahan tahu tambah menu umum lain seperti ayam semua selera indonesia harga cukup jangkau jangan lewat tahu bletoka nya tidak kalah dengan yang asli dari tegal  \n",
              "1                                                                                                                                                                                                                                         mohon ulama lurus dan k212 mmbri hujjah partai apa yang harus diwlh agar suara islam tidak pecah pecah  \n",
              "2                                                                                                                                                                       lokasi strategis di jalan sumatra bandung tempat nya nyaman utama sofa di lantai 2 paella nya enak sangat pas makan dengan minum bir dingin appetiser nya juga enak enak  \n",
              "3                                                                                                                                                                                                                                                           betapa bahagia nya diri ini saat unboxing paket dan barang nya bagus tetap beli lagi  \n",
              "4                                                                                                                                            aduh jadi mahasiswa jangan sombong dong kasih kartu kuning segala ajar dulu yang baik tidak usah ikut ikut politik nanti sudah selesai kuliah nya mau ikut politik juga tidak telat dasar mahasiswa  "
            ],
            "text/html": [
              "\n",
              "  <div id=\"df-c8566260-1eab-4e3a-86ac-c4ceb5b5800f\">\n",
              "    <div class=\"colab-df-container\">\n",
              "      <div>\n",
              "<style scoped>\n",
              "    .dataframe tbody tr th:only-of-type {\n",
              "        vertical-align: middle;\n",
              "    }\n",
              "\n",
              "    .dataframe tbody tr th {\n",
              "        vertical-align: top;\n",
              "    }\n",
              "\n",
              "    .dataframe thead th {\n",
              "        text-align: right;\n",
              "    }\n",
              "</style>\n",
              "<table border=\"1\" class=\"dataframe\">\n",
              "  <thead>\n",
              "    <tr style=\"text-align: right;\">\n",
              "      <th></th>\n",
              "      <th>Tweet</th>\n",
              "      <th>Sentimen</th>\n",
              "      <th>ReviewTweet</th>\n",
              "    </tr>\n",
              "  </thead>\n",
              "  <tbody>\n",
              "    <tr>\n",
              "      <th>0</th>\n",
              "      <td>warung ini dimiliki oleh pengusaha pabrik tahu yang sudah puluhan tahun terkenal membuat tahu putih di bandung . tahu berkualitas , dipadu keahlian memasak , dipadu kretivitas , jadilah warung yang menyajikan menu utama berbahan tahu , ditambah menu umum lain seperti ayam . semuanya selera indonesia . harga cukup terjangkau . jangan lewatkan tahu bletoka nya , tidak kalah dengan yang asli dari tegal !</td>\n",
              "      <td>positive</td>\n",
              "      <td>warung ini milik oleh usaha pabrik tahu yang sudah puluh tahun kenal buat tahu putih di bandung tahu kualitas padu ahli masak padu kretivitas jadi warung yang saji menu utama bahan tahu tambah menu umum lain seperti ayam semua selera indonesia harga cukup jangkau jangan lewat tahu bletoka nya tidak kalah dengan yang asli dari tegal</td>\n",
              "    </tr>\n",
              "    <tr>\n",
              "      <th>1</th>\n",
              "      <td>mohon ulama lurus dan k212 mmbri hujjah partai apa yang harus diwlh agar suara islam tidak pecah-pecah</td>\n",
              "      <td>neutral</td>\n",
              "      <td>mohon ulama lurus dan k212 mmbri hujjah partai apa yang harus diwlh agar suara islam tidak pecah pecah</td>\n",
              "    </tr>\n",
              "    <tr>\n",
              "      <th>2</th>\n",
              "      <td>lokasi strategis di jalan sumatera bandung . tempat nya nyaman terutama sofa di lantai 2 . paella nya enak , sangat pas dimakan dengan minum bir dingin . appetiser nya juga enak-enak .</td>\n",
              "      <td>positive</td>\n",
              "      <td>lokasi strategis di jalan sumatra bandung tempat nya nyaman utama sofa di lantai 2 paella nya enak sangat pas makan dengan minum bir dingin appetiser nya juga enak enak</td>\n",
              "    </tr>\n",
              "    <tr>\n",
              "      <th>3</th>\n",
              "      <td>betapa bahagia nya diri ini saat unboxing paket dan barang nya bagus ! menetapkan beli lagi !</td>\n",
              "      <td>positive</td>\n",
              "      <td>betapa bahagia nya diri ini saat unboxing paket dan barang nya bagus tetap beli lagi</td>\n",
              "    </tr>\n",
              "    <tr>\n",
              "      <th>4</th>\n",
              "      <td>duh . jadi mahasiswa jangan sombong dong . kasih kartu kuning segala . belajar dulu yang baik , tidak usahlah ikut-ikut politik . nanti sudah selesai kuliah nya mau ikut politik juga tidak telat . dasar mahasiswa .</td>\n",
              "      <td>negative</td>\n",
              "      <td>aduh jadi mahasiswa jangan sombong dong kasih kartu kuning segala ajar dulu yang baik tidak usah ikut ikut politik nanti sudah selesai kuliah nya mau ikut politik juga tidak telat dasar mahasiswa</td>\n",
              "    </tr>\n",
              "  </tbody>\n",
              "</table>\n",
              "</div>\n",
              "      <button class=\"colab-df-convert\" onclick=\"convertToInteractive('df-c8566260-1eab-4e3a-86ac-c4ceb5b5800f')\"\n",
              "              title=\"Convert this dataframe to an interactive table.\"\n",
              "              style=\"display:none;\">\n",
              "        \n",
              "  <svg xmlns=\"http://www.w3.org/2000/svg\" height=\"24px\"viewBox=\"0 0 24 24\"\n",
              "       width=\"24px\">\n",
              "    <path d=\"M0 0h24v24H0V0z\" fill=\"none\"/>\n",
              "    <path d=\"M18.56 5.44l.94 2.06.94-2.06 2.06-.94-2.06-.94-.94-2.06-.94 2.06-2.06.94zm-11 1L8.5 8.5l.94-2.06 2.06-.94-2.06-.94L8.5 2.5l-.94 2.06-2.06.94zm10 10l.94 2.06.94-2.06 2.06-.94-2.06-.94-.94-2.06-.94 2.06-2.06.94z\"/><path d=\"M17.41 7.96l-1.37-1.37c-.4-.4-.92-.59-1.43-.59-.52 0-1.04.2-1.43.59L10.3 9.45l-7.72 7.72c-.78.78-.78 2.05 0 2.83L4 21.41c.39.39.9.59 1.41.59.51 0 1.02-.2 1.41-.59l7.78-7.78 2.81-2.81c.8-.78.8-2.07 0-2.86zM5.41 20L4 18.59l7.72-7.72 1.47 1.35L5.41 20z\"/>\n",
              "  </svg>\n",
              "      </button>\n",
              "      \n",
              "  <style>\n",
              "    .colab-df-container {\n",
              "      display:flex;\n",
              "      flex-wrap:wrap;\n",
              "      gap: 12px;\n",
              "    }\n",
              "\n",
              "    .colab-df-convert {\n",
              "      background-color: #E8F0FE;\n",
              "      border: none;\n",
              "      border-radius: 50%;\n",
              "      cursor: pointer;\n",
              "      display: none;\n",
              "      fill: #1967D2;\n",
              "      height: 32px;\n",
              "      padding: 0 0 0 0;\n",
              "      width: 32px;\n",
              "    }\n",
              "\n",
              "    .colab-df-convert:hover {\n",
              "      background-color: #E2EBFA;\n",
              "      box-shadow: 0px 1px 2px rgba(60, 64, 67, 0.3), 0px 1px 3px 1px rgba(60, 64, 67, 0.15);\n",
              "      fill: #174EA6;\n",
              "    }\n",
              "\n",
              "    [theme=dark] .colab-df-convert {\n",
              "      background-color: #3B4455;\n",
              "      fill: #D2E3FC;\n",
              "    }\n",
              "\n",
              "    [theme=dark] .colab-df-convert:hover {\n",
              "      background-color: #434B5C;\n",
              "      box-shadow: 0px 1px 3px 1px rgba(0, 0, 0, 0.15);\n",
              "      filter: drop-shadow(0px 1px 2px rgba(0, 0, 0, 0.3));\n",
              "      fill: #FFFFFF;\n",
              "    }\n",
              "  </style>\n",
              "\n",
              "      <script>\n",
              "        const buttonEl =\n",
              "          document.querySelector('#df-c8566260-1eab-4e3a-86ac-c4ceb5b5800f button.colab-df-convert');\n",
              "        buttonEl.style.display =\n",
              "          google.colab.kernel.accessAllowed ? 'block' : 'none';\n",
              "\n",
              "        async function convertToInteractive(key) {\n",
              "          const element = document.querySelector('#df-c8566260-1eab-4e3a-86ac-c4ceb5b5800f');\n",
              "          const dataTable =\n",
              "            await google.colab.kernel.invokeFunction('convertToInteractive',\n",
              "                                                     [key], {});\n",
              "          if (!dataTable) return;\n",
              "\n",
              "          const docLinkHtml = 'Like what you see? Visit the ' +\n",
              "            '<a target=\"_blank\" href=https://colab.research.google.com/notebooks/data_table.ipynb>data table notebook</a>'\n",
              "            + ' to learn more about interactive tables.';\n",
              "          element.innerHTML = '';\n",
              "          dataTable['output_type'] = 'display_data';\n",
              "          await google.colab.output.renderOutput(dataTable, element);\n",
              "          const docLink = document.createElement('div');\n",
              "          docLink.innerHTML = docLinkHtml;\n",
              "          element.appendChild(docLink);\n",
              "        }\n",
              "      </script>\n",
              "    </div>\n",
              "  </div>\n",
              "  "
            ]
          },
          "metadata": {},
          "execution_count": 21
        }
      ],
      "source": [
        "df['ReviewTweet'] = df['Tweet'].apply(cleaning_data)\n",
        "#df['ReviewTweet'] = df['ReviewTweet'].apply(casefoldingText)\n",
        "#df['ReviewTweet'] = df['ReviewTweet'].apply(tokenizingText)\n",
        "#df['ReviewTweet'] = df['ReviewTweet'].apply(filteringText)\n",
        "#df['ReviewTweet'] = df['ReviewTweet'].apply(lemmaText)\n",
        "#df['ReviewTweet'] = df['ReviewTweet'].apply(toSentence)\n",
        "df['ReviewTweet']=df['ReviewTweet'].apply(convert)\n",
        "df['ReviewTweet']=df['ReviewTweet'].apply(filter_data)\n",
        "df['ReviewTweet'] = df['ReviewTweet'].apply(stemmingText)\n",
        "df.head()"
      ]
    },
    {
      "cell_type": "code",
      "execution_count": null,
      "metadata": {
        "colab": {
          "base_uri": "https://localhost:8080/"
        },
        "id": "IKN5Uz1-hzHZ",
        "outputId": "4658a70f-af15-4c5d-84c8-259515688635"
      },
      "outputs": [
        {
          "output_type": "execute_result",
          "data": {
            "text/plain": [
              "positive    6416\n",
              "negative    3436\n",
              "neutral     1148\n",
              "Name: Sentimen, dtype: int64"
            ]
          },
          "metadata": {},
          "execution_count": 22
        }
      ],
      "source": [
        "df.Sentimen.value_counts()"
      ]
    },
    {
      "cell_type": "code",
      "execution_count": null,
      "metadata": {
        "colab": {
          "base_uri": "https://localhost:8080/",
          "height": 867
        },
        "id": "uYwTIxgUj2KH",
        "outputId": "13db0e26-46b2-41e4-bced-86f70853ebd2"
      },
      "outputs": [
        {
          "output_type": "execute_result",
          "data": {
            "text/plain": [
              "                                                                                                                                                                                                                                                                                                                                                                                                                      Tweet  \\\n",
              "0      warung ini dimiliki oleh pengusaha pabrik tahu yang sudah puluhan tahun terkenal membuat tahu putih di bandung . tahu berkualitas , dipadu keahlian memasak , dipadu kretivitas , jadilah warung yang menyajikan menu utama berbahan tahu , ditambah menu umum lain seperti ayam . semuanya selera indonesia . harga cukup terjangkau . jangan lewatkan tahu bletoka nya , tidak kalah dengan yang asli dari tegal !   \n",
              "1                                                                                                                                                                                                                                                                                                                    mohon ulama lurus dan k212 mmbri hujjah partai apa yang harus diwlh agar suara islam tidak pecah-pecah   \n",
              "2                                                                                                                                                                                                                                  lokasi strategis di jalan sumatera bandung . tempat nya nyaman terutama sofa di lantai 2 . paella nya enak , sangat pas dimakan dengan minum bir dingin . appetiser nya juga enak-enak .   \n",
              "3                                                                                                                                                                                                                                                                                                                             betapa bahagia nya diri ini saat unboxing paket dan barang nya bagus ! menetapkan beli lagi !   \n",
              "4                                                                                                                                                                                                    duh . jadi mahasiswa jangan sombong dong . kasih kartu kuning segala . belajar dulu yang baik , tidak usahlah ikut-ikut politik . nanti sudah selesai kuliah nya mau ikut politik juga tidak telat . dasar mahasiswa .   \n",
              "...                                                                                                                                                                                                                                                                                                                                                                                                                     ...   \n",
              "10995                                                                                                                                                                                                                                                                                                                                                                                                          tidak kecewa   \n",
              "10996                                                                                                                                                                                                                                                          enak rasa masakan nya apalagi kepiting yang menyenangkan kita memilih kepiting nya sendiri dan masih segar . selalu mampir ke sini kalau setiap ke bandung .   \n",
              "10997                                                                                                                                                                                                                                                                                                                                                                           hormati partai-partai yang telah berkoalisi   \n",
              "10998                                                                                                                                                                                                                                                                                                                                                   pagi pagi di tol pasteur sudah macet parah , bikin jengkel saja ini   \n",
              "10999                   meskipun sering belanja ke yogya di riau junction , tapi baru pertama kali ini saya lihat foodlife . tempat nya luas dan bersih . tidak kumuh semacam foodcourt lainnya , dan pilihan makanan nya banyak banget , dari yang tradisional sampai makanan barat ataupun asian . mau yang berat sampai ke yang ringan , hampir semuanya ada . tinggal pilih dan disesuaikan sama biaya makan nya saja .   \n",
              "\n",
              "                                                                                                                                                                                                                                                                                                                                                       ReviewTweet  \\\n",
              "0                    warung ini milik oleh usaha pabrik tahu yang sudah puluh tahun kenal buat tahu putih di bandung tahu kualitas padu ahli masak padu kretivitas jadi warung yang saji menu utama bahan tahu tambah menu umum lain seperti ayam semua selera indonesia harga cukup jangkau jangan lewat tahu bletoka nya tidak kalah dengan yang asli dari tegal   \n",
              "1                                                                                                                                                                                                                                                           mohon ulama lurus dan k212 mmbri hujjah partai apa yang harus diwlh agar suara islam tidak pecah pecah   \n",
              "2                                                                                                                                                                                         lokasi strategis di jalan sumatra bandung tempat nya nyaman utama sofa di lantai 2 paella nya enak sangat pas makan dengan minum bir dingin appetiser nya juga enak enak   \n",
              "3                                                                                                                                                                                                                                                                             betapa bahagia nya diri ini saat unboxing paket dan barang nya bagus tetap beli lagi   \n",
              "4                                                                                                                                                              aduh jadi mahasiswa jangan sombong dong kasih kartu kuning segala ajar dulu yang baik tidak usah ikut ikut politik nanti sudah selesai kuliah nya mau ikut politik juga tidak telat dasar mahasiswa   \n",
              "...                                                                                                                                                                                                                                                                                                                                                            ...   \n",
              "10995                                                                                                                                                                                                                                                                                                                                                 tidak kecewa   \n",
              "10996                                                                                                                                                                                                               enak rasa masakan nya apalagi kepiting yang senang kita pilih kepiting nya sendiri dan masih segar selalu mampir ke sini kalau tiap ke bandung   \n",
              "10997                                                                                                                                                                                                                                                                                                                      hormat partai partai yang telah koalisi   \n",
              "10998                                                                                                                                                                                                                                                                                            pagi pagi di tol pasteur sudah macet parah bikin jengkel saja ini   \n",
              "10999  meski sering belanja ke yogyakarta di riau junction tapi baru pertama kali ini saya lihat foodlife tempat nya luas dan bersih tidak kumuh macam foodcourt lain dan pilih makan nya banyak banget dari yang tradisional sampai makan barat atau asi mau yang berat sampai ke yang ringan hampir semua ada tinggal pilih dan sesuai sama biaya makan nya saja   \n",
              "\n",
              "       negative  neutral  positive  \n",
              "0             0        0         1  \n",
              "1             0        1         0  \n",
              "2             0        0         1  \n",
              "3             0        0         1  \n",
              "4             1        0         0  \n",
              "...         ...      ...       ...  \n",
              "10995         0        0         1  \n",
              "10996         0        0         1  \n",
              "10997         0        1         0  \n",
              "10998         1        0         0  \n",
              "10999         0        0         1  \n",
              "\n",
              "[11000 rows x 5 columns]"
            ],
            "text/html": [
              "\n",
              "  <div id=\"df-23d5c229-b9bf-4132-826b-13a69394a06b\">\n",
              "    <div class=\"colab-df-container\">\n",
              "      <div>\n",
              "<style scoped>\n",
              "    .dataframe tbody tr th:only-of-type {\n",
              "        vertical-align: middle;\n",
              "    }\n",
              "\n",
              "    .dataframe tbody tr th {\n",
              "        vertical-align: top;\n",
              "    }\n",
              "\n",
              "    .dataframe thead th {\n",
              "        text-align: right;\n",
              "    }\n",
              "</style>\n",
              "<table border=\"1\" class=\"dataframe\">\n",
              "  <thead>\n",
              "    <tr style=\"text-align: right;\">\n",
              "      <th></th>\n",
              "      <th>Tweet</th>\n",
              "      <th>ReviewTweet</th>\n",
              "      <th>negative</th>\n",
              "      <th>neutral</th>\n",
              "      <th>positive</th>\n",
              "    </tr>\n",
              "  </thead>\n",
              "  <tbody>\n",
              "    <tr>\n",
              "      <th>0</th>\n",
              "      <td>warung ini dimiliki oleh pengusaha pabrik tahu yang sudah puluhan tahun terkenal membuat tahu putih di bandung . tahu berkualitas , dipadu keahlian memasak , dipadu kretivitas , jadilah warung yang menyajikan menu utama berbahan tahu , ditambah menu umum lain seperti ayam . semuanya selera indonesia . harga cukup terjangkau . jangan lewatkan tahu bletoka nya , tidak kalah dengan yang asli dari tegal !</td>\n",
              "      <td>warung ini milik oleh usaha pabrik tahu yang sudah puluh tahun kenal buat tahu putih di bandung tahu kualitas padu ahli masak padu kretivitas jadi warung yang saji menu utama bahan tahu tambah menu umum lain seperti ayam semua selera indonesia harga cukup jangkau jangan lewat tahu bletoka nya tidak kalah dengan yang asli dari tegal</td>\n",
              "      <td>0</td>\n",
              "      <td>0</td>\n",
              "      <td>1</td>\n",
              "    </tr>\n",
              "    <tr>\n",
              "      <th>1</th>\n",
              "      <td>mohon ulama lurus dan k212 mmbri hujjah partai apa yang harus diwlh agar suara islam tidak pecah-pecah</td>\n",
              "      <td>mohon ulama lurus dan k212 mmbri hujjah partai apa yang harus diwlh agar suara islam tidak pecah pecah</td>\n",
              "      <td>0</td>\n",
              "      <td>1</td>\n",
              "      <td>0</td>\n",
              "    </tr>\n",
              "    <tr>\n",
              "      <th>2</th>\n",
              "      <td>lokasi strategis di jalan sumatera bandung . tempat nya nyaman terutama sofa di lantai 2 . paella nya enak , sangat pas dimakan dengan minum bir dingin . appetiser nya juga enak-enak .</td>\n",
              "      <td>lokasi strategis di jalan sumatra bandung tempat nya nyaman utama sofa di lantai 2 paella nya enak sangat pas makan dengan minum bir dingin appetiser nya juga enak enak</td>\n",
              "      <td>0</td>\n",
              "      <td>0</td>\n",
              "      <td>1</td>\n",
              "    </tr>\n",
              "    <tr>\n",
              "      <th>3</th>\n",
              "      <td>betapa bahagia nya diri ini saat unboxing paket dan barang nya bagus ! menetapkan beli lagi !</td>\n",
              "      <td>betapa bahagia nya diri ini saat unboxing paket dan barang nya bagus tetap beli lagi</td>\n",
              "      <td>0</td>\n",
              "      <td>0</td>\n",
              "      <td>1</td>\n",
              "    </tr>\n",
              "    <tr>\n",
              "      <th>4</th>\n",
              "      <td>duh . jadi mahasiswa jangan sombong dong . kasih kartu kuning segala . belajar dulu yang baik , tidak usahlah ikut-ikut politik . nanti sudah selesai kuliah nya mau ikut politik juga tidak telat . dasar mahasiswa .</td>\n",
              "      <td>aduh jadi mahasiswa jangan sombong dong kasih kartu kuning segala ajar dulu yang baik tidak usah ikut ikut politik nanti sudah selesai kuliah nya mau ikut politik juga tidak telat dasar mahasiswa</td>\n",
              "      <td>1</td>\n",
              "      <td>0</td>\n",
              "      <td>0</td>\n",
              "    </tr>\n",
              "    <tr>\n",
              "      <th>...</th>\n",
              "      <td>...</td>\n",
              "      <td>...</td>\n",
              "      <td>...</td>\n",
              "      <td>...</td>\n",
              "      <td>...</td>\n",
              "    </tr>\n",
              "    <tr>\n",
              "      <th>10995</th>\n",
              "      <td>tidak kecewa</td>\n",
              "      <td>tidak kecewa</td>\n",
              "      <td>0</td>\n",
              "      <td>0</td>\n",
              "      <td>1</td>\n",
              "    </tr>\n",
              "    <tr>\n",
              "      <th>10996</th>\n",
              "      <td>enak rasa masakan nya apalagi kepiting yang menyenangkan kita memilih kepiting nya sendiri dan masih segar . selalu mampir ke sini kalau setiap ke bandung .</td>\n",
              "      <td>enak rasa masakan nya apalagi kepiting yang senang kita pilih kepiting nya sendiri dan masih segar selalu mampir ke sini kalau tiap ke bandung</td>\n",
              "      <td>0</td>\n",
              "      <td>0</td>\n",
              "      <td>1</td>\n",
              "    </tr>\n",
              "    <tr>\n",
              "      <th>10997</th>\n",
              "      <td>hormati partai-partai yang telah berkoalisi</td>\n",
              "      <td>hormat partai partai yang telah koalisi</td>\n",
              "      <td>0</td>\n",
              "      <td>1</td>\n",
              "      <td>0</td>\n",
              "    </tr>\n",
              "    <tr>\n",
              "      <th>10998</th>\n",
              "      <td>pagi pagi di tol pasteur sudah macet parah , bikin jengkel saja ini</td>\n",
              "      <td>pagi pagi di tol pasteur sudah macet parah bikin jengkel saja ini</td>\n",
              "      <td>1</td>\n",
              "      <td>0</td>\n",
              "      <td>0</td>\n",
              "    </tr>\n",
              "    <tr>\n",
              "      <th>10999</th>\n",
              "      <td>meskipun sering belanja ke yogya di riau junction , tapi baru pertama kali ini saya lihat foodlife . tempat nya luas dan bersih . tidak kumuh semacam foodcourt lainnya , dan pilihan makanan nya banyak banget , dari yang tradisional sampai makanan barat ataupun asian . mau yang berat sampai ke yang ringan , hampir semuanya ada . tinggal pilih dan disesuaikan sama biaya makan nya saja .</td>\n",
              "      <td>meski sering belanja ke yogyakarta di riau junction tapi baru pertama kali ini saya lihat foodlife tempat nya luas dan bersih tidak kumuh macam foodcourt lain dan pilih makan nya banyak banget dari yang tradisional sampai makan barat atau asi mau yang berat sampai ke yang ringan hampir semua ada tinggal pilih dan sesuai sama biaya makan nya saja</td>\n",
              "      <td>0</td>\n",
              "      <td>0</td>\n",
              "      <td>1</td>\n",
              "    </tr>\n",
              "  </tbody>\n",
              "</table>\n",
              "<p>11000 rows × 5 columns</p>\n",
              "</div>\n",
              "      <button class=\"colab-df-convert\" onclick=\"convertToInteractive('df-23d5c229-b9bf-4132-826b-13a69394a06b')\"\n",
              "              title=\"Convert this dataframe to an interactive table.\"\n",
              "              style=\"display:none;\">\n",
              "        \n",
              "  <svg xmlns=\"http://www.w3.org/2000/svg\" height=\"24px\"viewBox=\"0 0 24 24\"\n",
              "       width=\"24px\">\n",
              "    <path d=\"M0 0h24v24H0V0z\" fill=\"none\"/>\n",
              "    <path d=\"M18.56 5.44l.94 2.06.94-2.06 2.06-.94-2.06-.94-.94-2.06-.94 2.06-2.06.94zm-11 1L8.5 8.5l.94-2.06 2.06-.94-2.06-.94L8.5 2.5l-.94 2.06-2.06.94zm10 10l.94 2.06.94-2.06 2.06-.94-2.06-.94-.94-2.06-.94 2.06-2.06.94z\"/><path d=\"M17.41 7.96l-1.37-1.37c-.4-.4-.92-.59-1.43-.59-.52 0-1.04.2-1.43.59L10.3 9.45l-7.72 7.72c-.78.78-.78 2.05 0 2.83L4 21.41c.39.39.9.59 1.41.59.51 0 1.02-.2 1.41-.59l7.78-7.78 2.81-2.81c.8-.78.8-2.07 0-2.86zM5.41 20L4 18.59l7.72-7.72 1.47 1.35L5.41 20z\"/>\n",
              "  </svg>\n",
              "      </button>\n",
              "      \n",
              "  <style>\n",
              "    .colab-df-container {\n",
              "      display:flex;\n",
              "      flex-wrap:wrap;\n",
              "      gap: 12px;\n",
              "    }\n",
              "\n",
              "    .colab-df-convert {\n",
              "      background-color: #E8F0FE;\n",
              "      border: none;\n",
              "      border-radius: 50%;\n",
              "      cursor: pointer;\n",
              "      display: none;\n",
              "      fill: #1967D2;\n",
              "      height: 32px;\n",
              "      padding: 0 0 0 0;\n",
              "      width: 32px;\n",
              "    }\n",
              "\n",
              "    .colab-df-convert:hover {\n",
              "      background-color: #E2EBFA;\n",
              "      box-shadow: 0px 1px 2px rgba(60, 64, 67, 0.3), 0px 1px 3px 1px rgba(60, 64, 67, 0.15);\n",
              "      fill: #174EA6;\n",
              "    }\n",
              "\n",
              "    [theme=dark] .colab-df-convert {\n",
              "      background-color: #3B4455;\n",
              "      fill: #D2E3FC;\n",
              "    }\n",
              "\n",
              "    [theme=dark] .colab-df-convert:hover {\n",
              "      background-color: #434B5C;\n",
              "      box-shadow: 0px 1px 3px 1px rgba(0, 0, 0, 0.15);\n",
              "      filter: drop-shadow(0px 1px 2px rgba(0, 0, 0, 0.3));\n",
              "      fill: #FFFFFF;\n",
              "    }\n",
              "  </style>\n",
              "\n",
              "      <script>\n",
              "        const buttonEl =\n",
              "          document.querySelector('#df-23d5c229-b9bf-4132-826b-13a69394a06b button.colab-df-convert');\n",
              "        buttonEl.style.display =\n",
              "          google.colab.kernel.accessAllowed ? 'block' : 'none';\n",
              "\n",
              "        async function convertToInteractive(key) {\n",
              "          const element = document.querySelector('#df-23d5c229-b9bf-4132-826b-13a69394a06b');\n",
              "          const dataTable =\n",
              "            await google.colab.kernel.invokeFunction('convertToInteractive',\n",
              "                                                     [key], {});\n",
              "          if (!dataTable) return;\n",
              "\n",
              "          const docLinkHtml = 'Like what you see? Visit the ' +\n",
              "            '<a target=\"_blank\" href=https://colab.research.google.com/notebooks/data_table.ipynb>data table notebook</a>'\n",
              "            + ' to learn more about interactive tables.';\n",
              "          element.innerHTML = '';\n",
              "          dataTable['output_type'] = 'display_data';\n",
              "          await google.colab.output.renderOutput(dataTable, element);\n",
              "          const docLink = document.createElement('div');\n",
              "          docLink.innerHTML = docLinkHtml;\n",
              "          element.appendChild(docLink);\n",
              "        }\n",
              "      </script>\n",
              "    </div>\n",
              "  </div>\n",
              "  "
            ]
          },
          "metadata": {},
          "execution_count": 23
        }
      ],
      "source": [
        "dummy = pd.get_dummies(df['Sentimen'])\n",
        "df_new = pd.concat([df, dummy], axis=1)\n",
        "df_new = df_new.drop(columns='Sentimen')\n",
        "df_new"
      ]
    },
    {
      "cell_type": "markdown",
      "metadata": {
        "id": "hKeTEcxaj_xW"
      },
      "source": [
        "**SPLIT X AND Y**"
      ]
    },
    {
      "cell_type": "code",
      "execution_count": null,
      "metadata": {
        "id": "zui2XjzGj2Oy"
      },
      "outputs": [],
      "source": [
        "x = df_new['ReviewTweet'].values\n",
        "y = df_new[['negative', 'neutral', 'positive']].values\n",
        "\n",
        "with open('y_lables.pickle','wb') as handle:\n",
        "  pickle.dump(y, handle, protocol=pickle.HIGHEST_PROTOCOL)"
      ]
    },
    {
      "cell_type": "markdown",
      "metadata": {
        "id": "VdC0Zlf9kH47"
      },
      "source": [
        "**FEATURE EXTRACTION USING TOKENIZER AND PAD_SEQUENCES**"
      ]
    },
    {
      "cell_type": "code",
      "execution_count": null,
      "metadata": {
        "colab": {
          "base_uri": "https://localhost:8080/"
        },
        "id": "UY7eezRBj2Rr",
        "outputId": "c9639900-2bbb-4676-f119-25f4dd186d47"
      },
      "outputs": [
        {
          "output_type": "execute_result",
          "data": {
            "text/plain": [
              "(11000, 96)"
            ]
          },
          "metadata": {},
          "execution_count": 25
        }
      ],
      "source": [
        "# Make text preprocessed (tokenized)\n",
        "max_features = 5000\n",
        "\n",
        "# Tokenize text with specific maximum number of words to keep\n",
        "tokenizer = Tokenizer(num_words=max_features, oov_token='x')\n",
        "tokenizer.fit_on_texts(x)\n",
        "#\n",
        "with open('tokenizer.pickle','wb') as handle:\n",
        "  pickle.dump(tokenizer, handle, protocol=pickle.HIGHEST_PROTOCOL)\n",
        "\n",
        "sq_x = tokenizer.texts_to_sequences(x) #modul tokenizer\n",
        "# Padding change token to matrix/vector\n",
        "pad_x = pad_sequences(sq_x) #modul pad sequence\n",
        "#\n",
        "with open('x_pad_sequences.pickle','wb') as handle:\n",
        "  pickle.dump(pad_x, handle, protocol=pickle.HIGHEST_PROTOCOL)\n",
        "\n",
        "pad_x.shape"
      ]
    },
    {
      "cell_type": "code",
      "execution_count": null,
      "metadata": {
        "colab": {
          "base_uri": "https://localhost:8080/",
          "height": 70
        },
        "id": "n1hZ7-BMkMbw",
        "outputId": "7b4cc3c8-594b-427e-f3f6-3378ee8938f9"
      },
      "outputs": [
        {
          "output_type": "execute_result",
          "data": {
            "text/plain": [
              "'warung ini milik oleh usaha pabrik tahu yang sudah puluh tahun kenal buat tahu putih di bandung tahu kualitas padu ahli masak padu kretivitas jadi warung yang saji menu utama bahan tahu tambah menu umum lain seperti ayam semua selera indonesia harga cukup jangkau jangan lewat tahu bletoka nya tidak kalah dengan yang asli dari tegal'"
            ],
            "application/vnd.google.colaboratory.intrinsic+json": {
              "type": "string"
            }
          },
          "metadata": {},
          "execution_count": 26
        }
      ],
      "source": [
        "x[0]"
      ]
    },
    {
      "cell_type": "code",
      "execution_count": null,
      "metadata": {
        "colab": {
          "base_uri": "https://localhost:8080/"
        },
        "id": "X3_C8a62kMlC",
        "outputId": "fe2b13f5-5ebf-4efe-896d-041feb38c718"
      },
      "outputs": [
        {
          "output_type": "execute_result",
          "data": {
            "text/plain": [
              "[272,\n",
              " 12,\n",
              " 229,\n",
              " 145,\n",
              " 672,\n",
              " 2790,\n",
              " 109,\n",
              " 3,\n",
              " 30,\n",
              " 1077,\n",
              " 167,\n",
              " 234,\n",
              " 31,\n",
              " 109,\n",
              " 623,\n",
              " 5,\n",
              " 22,\n",
              " 109,\n",
              " 241,\n",
              " 693,\n",
              " 2791,\n",
              " 473,\n",
              " 693,\n",
              " 1709,\n",
              " 26,\n",
              " 272,\n",
              " 3,\n",
              " 73,\n",
              " 23,\n",
              " 206,\n",
              " 545,\n",
              " 109,\n",
              " 127,\n",
              " 23,\n",
              " 330,\n",
              " 48,\n",
              " 53,\n",
              " 55,\n",
              " 87,\n",
              " 392,\n",
              " 66,\n",
              " 19,\n",
              " 27,\n",
              " 128,\n",
              " 152,\n",
              " 383,\n",
              " 109,\n",
              " 1709,\n",
              " 2,\n",
              " 7,\n",
              " 452,\n",
              " 9,\n",
              " 3,\n",
              " 470,\n",
              " 20,\n",
              " 1891]"
            ]
          },
          "metadata": {},
          "execution_count": 27
        }
      ],
      "source": [
        "sq_x[0] #still token"
      ]
    },
    {
      "cell_type": "code",
      "execution_count": null,
      "metadata": {
        "colab": {
          "base_uri": "https://localhost:8080/"
        },
        "id": "QdFElAilkMn3",
        "outputId": "2fd300c5-3cd7-4f0d-8e4b-a6ebecd41c82"
      },
      "outputs": [
        {
          "output_type": "execute_result",
          "data": {
            "text/plain": [
              "array([   0,    0,    0,    0,    0,    0,    0,    0,    0,    0,    0,\n",
              "          0,    0,    0,    0,    0,    0,    0,    0,    0,    0,    0,\n",
              "          0,    0,    0,    0,    0,    0,    0,    0,    0,    0,    0,\n",
              "          0,    0,    0,    0,    0,    0,    0,  272,   12,  229,  145,\n",
              "        672, 2790,  109,    3,   30, 1077,  167,  234,   31,  109,  623,\n",
              "          5,   22,  109,  241,  693, 2791,  473,  693, 1709,   26,  272,\n",
              "          3,   73,   23,  206,  545,  109,  127,   23,  330,   48,   53,\n",
              "         55,   87,  392,   66,   19,   27,  128,  152,  383,  109, 1709,\n",
              "          2,    7,  452,    9,    3,  470,   20, 1891], dtype=int32)"
            ]
          },
          "metadata": {},
          "execution_count": 28
        }
      ],
      "source": [
        "pad_x[0] # change to be vector or matrix"
      ]
    },
    {
      "cell_type": "markdown",
      "metadata": {
        "id": "EOffUpSukaw0"
      },
      "source": [
        "**SPLITTING TEST, TRAIN AND VAL DATASET**"
      ]
    },
    {
      "cell_type": "code",
      "execution_count": null,
      "metadata": {
        "colab": {
          "base_uri": "https://localhost:8080/"
        },
        "id": "Kyico7iskMqV",
        "outputId": "ab99a5a5-2a91-4130-eb77-d8bcf9cfd39e"
      },
      "outputs": [
        {
          "output_type": "stream",
          "name": "stdout",
          "text": [
            "(7040, 96) (7040, 3)\n",
            "(2200, 96) (2200, 3)\n"
          ]
        }
      ],
      "source": [
        "x_train, x_test, y_train, y_test = train_test_split(pad_x, y, test_size=0.2, random_state = 42)\n",
        "\n",
        "#data validation\n",
        "x_train, x_val, y_train, y_val = train_test_split(x_train, y_train, test_size=0.2, random_state = 42)\n",
        "print(x_train.shape, y_train.shape)\n",
        "print(x_test.shape, y_test.shape)"
      ]
    },
    {
      "cell_type": "markdown",
      "metadata": {
        "id": "_47r1eL8CGf_"
      },
      "source": [
        "**MODEL**"
      ]
    },
    {
      "cell_type": "code",
      "execution_count": null,
      "metadata": {
        "colab": {
          "base_uri": "https://localhost:8080/"
        },
        "id": "xzFe-E87JrRX",
        "outputId": "8a76ae18-5bfa-4bbd-cbd9-247cac7b16eb"
      },
      "outputs": [
        {
          "output_type": "stream",
          "name": "stdout",
          "text": [
            "Epoch 1/10\n",
            "704/704 [==============================] - 74s 101ms/step - loss: 0.4782 - categorical_accuracy: 0.8135 - val_loss: 0.3153 - val_categorical_accuracy: 0.8886\n",
            "Epoch 2/10\n",
            "704/704 [==============================] - 49s 69ms/step - loss: 0.2489 - categorical_accuracy: 0.9105 - val_loss: 0.3033 - val_categorical_accuracy: 0.8864\n",
            "Epoch 3/10\n",
            "704/704 [==============================] - 51s 72ms/step - loss: 0.1653 - categorical_accuracy: 0.9391 - val_loss: 0.3643 - val_categorical_accuracy: 0.8699\n",
            "CPU times: user 3min 18s, sys: 9.24 s, total: 3min 27s\n",
            "Wall time: 2min 54s\n"
          ]
        }
      ],
      "source": [
        "%%time\n",
        "embed_dim = 100\n",
        "\n",
        "\n",
        "#embedding is a layer that use to change the representation discrete from continue vector (matrix to vector)\n",
        "#input_dim : use to define the size of token, #output_dim : to define dimension of the vector for each word\n",
        "model = tf.keras.Sequential([ #input_dim=100000 # , output_dim=128\n",
        "    tf.keras.layers.Embedding(max_features, embed_dim),\n",
        "    tf.keras.layers.LSTM(64, dropout=0.2), #to delete 2% from 64\n",
        "    #tf.keras.layers.Dense(8, activation='relu'),\n",
        "    #when biner(1 or 0) activation is sigmoid , because morethan 2 then is softmax\n",
        "    tf.keras.layers.Dense(3, activation='softmax')\n",
        "])\n",
        "\n",
        "\n",
        "#Early stopping\n",
        "#class myCallback(tf.keras.callbacks.Callback):\n",
        "#    def on_epoch_end(self, epoch, logs={}):\n",
        "#        if(logs.get('val_categorical_accuracy') > 0.85 ): #calculate accuracy with data val\n",
        "#            self.model.stop_training = True\n",
        "\n",
        "#callbacks = myCallback()\n",
        "\n",
        "callbacks = EarlyStopping(monitor='val_loss', mode='min', verbose=0)\n",
        "\n",
        "#optimizer\n",
        "optimizer = keras.optimizers.Adam(learning_rate=0.001)\n",
        "\n",
        "#model compile\n",
        "#use categorical_crossentropy because we have 3 sentiment, if 2 sentiment we use binary_crossentrophy\n",
        "model.compile(loss='categorical_crossentropy',\n",
        "              optimizer=optimizer,\n",
        "              metrics=['categorical_accuracy']) #calclute accuracy for data training\n",
        "\n",
        "num_epochs = 10\n",
        "fit = model.fit(x_train,\n",
        "                y_train,\n",
        "                batch_size = 10,\n",
        "                epochs=num_epochs,\n",
        "                validation_data=(x_val, y_val),\n",
        "                callbacks = [callbacks]\n",
        ")"
      ]
    },
    {
      "cell_type": "code",
      "execution_count": null,
      "metadata": {
        "colab": {
          "base_uri": "https://localhost:8080/"
        },
        "id": "0MuwRSxekgv4",
        "outputId": "1ff55d76-78d5-414c-dab2-bed3cf470438"
      },
      "outputs": [
        {
          "output_type": "stream",
          "name": "stdout",
          "text": [
            "Model: \"sequential\"\n",
            "_________________________________________________________________\n",
            " Layer (type)                Output Shape              Param #   \n",
            "=================================================================\n",
            " embedding (Embedding)       (None, None, 100)         500000    \n",
            "                                                                 \n",
            " lstm (LSTM)                 (None, 64)                42240     \n",
            "                                                                 \n",
            " dense (Dense)               (None, 3)                 195       \n",
            "                                                                 \n",
            "=================================================================\n",
            "Total params: 542,435\n",
            "Trainable params: 542,435\n",
            "Non-trainable params: 0\n",
            "_________________________________________________________________\n"
          ]
        }
      ],
      "source": [
        "model.summary()"
      ]
    },
    {
      "cell_type": "code",
      "execution_count": null,
      "metadata": {
        "colab": {
          "base_uri": "https://localhost:8080/",
          "height": 452
        },
        "id": "D4pNiO7uKtnz",
        "outputId": "7a811e27-5579-4cf7-8320-b5e3bc4bcc37"
      },
      "outputs": [
        {
          "output_type": "display_data",
          "data": {
            "text/plain": [
              "<Figure size 640x480 with 1 Axes>"
            ],
            "image/png": "[encoded data removed]"
          },
          "metadata": {}
        }
      ],
      "source": [
        "plt.plot(fit.history['categorical_accuracy'], label='Training acc')\n",
        "plt.plot(fit.history['val_categorical_accuracy'], label='Validation acc')\n",
        "plt.title('Training and validation accuracy')\n",
        "plt.legend()\n",
        "plt.show()"
      ]
    },
    {
      "cell_type": "code",
      "execution_count": null,
      "metadata": {
        "colab": {
          "base_uri": "https://localhost:8080/",
          "height": 452
        },
        "id": "wCOPxD87KvKw",
        "outputId": "6cacb784-e467-4dd0-9c7a-55a1051c4555"
      },
      "outputs": [
        {
          "output_type": "display_data",
          "data": {
            "text/plain": [
              "<Figure size 640x480 with 1 Axes>"
            ],
            "image/png": "[encoded data removed]"
          },
          "metadata": {}
        }
      ],
      "source": [
        "plt.plot(fit.history['loss'], label='Training loss')\n",
        "plt.plot(fit.history['val_loss'], label='Validation loss')\n",
        "plt.title('Training and validation loss')\n",
        "plt.legend()\n",
        "plt.show()"
      ]
    },
    {
      "cell_type": "markdown",
      "metadata": {
        "id": "OmnLjVqU-1Lw"
      },
      "source": [
        "**TRAIN DATASET**"
      ]
    },
    {
      "cell_type": "code",
      "execution_count": null,
      "metadata": {
        "id": "Gf0Xux3K-35Q",
        "colab": {
          "base_uri": "https://localhost:8080/"
        },
        "outputId": "6bbb3780-109d-4c8f-de55-8494abe98f56"
      },
      "outputs": [
        {
          "output_type": "stream",
          "name": "stdout",
          "text": [
            "220/220 [==============================] - 6s 22ms/step - loss: 0.0968 - categorical_accuracy: 0.9634\n",
            "55/55 [==============================] - 1s 21ms/step - loss: 0.3643 - categorical_accuracy: 0.8699\n",
            "69/69 [==============================] - 1s 21ms/step - loss: 0.3710 - categorical_accuracy: 0.8709\n",
            "\n",
            "Train: 0.963, val: 0.870, test: 0.871,\n"
          ]
        }
      ],
      "source": [
        "train_loss, train_acc = model.evaluate(x_train, y_train)\n",
        "val_loss, val_acc = model.evaluate(x_val, y_val)\n",
        "test_loss, test_acc = model.evaluate(x_test, y_test)\n",
        "\n",
        "print('\\nTrain: %.3f, val: %.3f, test: %.3f,' % (train_acc, val_acc, test_acc))"
      ]
    },
    {
      "cell_type": "code",
      "execution_count": null,
      "metadata": {
        "id": "OtKxl04UK9_Y"
      },
      "outputs": [],
      "source": [
        "filename = 'lstm.h5'\n",
        "model.save(filename)"
      ]
    },
    {
      "cell_type": "code",
      "execution_count": null,
      "metadata": {
        "id": "4RQH28bXLAP8"
      },
      "outputs": [],
      "source": [
        "import io\n",
        "import json\n",
        "\n",
        "tokenizer_json = tokenizer.to_json()\n",
        "with io.open('tokenizer.json', 'w', encoding='utf-8') as f:\n",
        "    f.write(json.dumps(tokenizer_json, ensure_ascii=False))"
      ]
    },
    {
      "cell_type": "markdown",
      "metadata": {
        "id": "f4gNEnuaC0aw"
      },
      "source": [
        "**PREDICTION**"
      ]
    },
    {
      "cell_type": "code",
      "execution_count": null,
      "metadata": {
        "id": "h0fT_BbtkktE"
      },
      "outputs": [],
      "source": [
        "loaded_model = load_model(r'lstm.h5')"
      ]
    },
    {
      "cell_type": "code",
      "execution_count": null,
      "metadata": {
        "id": "uLU0SPzdO8wI"
      },
      "outputs": [],
      "source": [
        "def pred_sentiment(string):\n",
        "    #remove url\n",
        "    string = re.sub('url', ' ', string)\n",
        "    #change Url+other word/special character\n",
        "    string = re.sub('url\\S+', ' ', string)\n",
        "    #remove non alphanumeric\n",
        "    string = re.sub(r'[^a-zA-Z0-9]', ' ',string)\n",
        "    #remove \\n\n",
        "    string = re.sub(r'\\\\n', ' ',string)\n",
        "    #remove emoticon\n",
        "    string = re.sub(r'(\\\\x(.){2})', ' ',string)\n",
        "    #Remove additional white spaces\n",
        "    string = re.sub('[\\s]+', ' ', string)\n",
        "    #Replace #word with word\n",
        "    string = re.sub(r'#([^\\s]+)', r'\\1', string)\n",
        "    #remove hastag\n",
        "    string = re.sub(r'#[A-Za-z0-9]+', ' ', string)\n",
        "    #remove RT\n",
        "    string = re.sub(r'RT[\\s]', ' ', string)\n",
        "    #remove link\n",
        "    string = re.sub(r'http\\S+', ' ', string)\n",
        "    #remove number\n",
        "    string = re.sub(r'[0-9]', ' ', string)\n",
        "    string = string.lower()\n",
        "    text = [string]\n",
        "\n",
        "    sek_x = tokenizer.texts_to_sequences(text)\n",
        "    padd_x = pad_sequences(sek_x)\n",
        "\n",
        "    classes = loaded_model.predict(padd_x, batch_size=10)\n",
        "\n",
        "    return classes[0]"
      ]
    },
    {
      "cell_type": "code",
      "execution_count": null,
      "metadata": {
        "id": "od_9iJflLIeF"
      },
      "outputs": [],
      "source": [
        "def pred(classes):\n",
        "   if classes[0] == classes.max():\n",
        "       print('negative')\n",
        "   if classes[1] == classes.max():\n",
        "       print('neutral')\n",
        "   if classes[2] == classes.max():\n",
        "       print('positive')"
      ]
    },
    {
      "cell_type": "code",
      "execution_count": null,
      "metadata": {
        "id": "so1iR1zKLK3_",
        "colab": {
          "base_uri": "https://localhost:8080/"
        },
        "outputId": "7e29b6fd-2fc9-4e93-d624-aaeb948b19bb"
      },
      "outputs": [
        {
          "output_type": "stream",
          "name": "stdout",
          "text": [
            "1/1 [==============================] - 0s 49ms/step\n",
            "positive\n",
            "Text : @\n",
            "Sentiment : None\n"
          ]
        }
      ],
      "source": [
        "string = \"@saya sangat suka makan di rest7aurant itu karena makanannya enak-enak\"\n",
        "classes = pred_sentiment(string)\n",
        "pred = pred(classes)\n",
        "\n",
        "print(\"Text :\", string[0])\n",
        "print(\"Sentiment :\", pred)"
      ]
    },
    {
      "cell_type": "markdown",
      "metadata": {
        "id": "8eQeJLegf3Wp"
      },
      "source": [
        "**USING CROSS VALIDATION**"
      ]
    },
    {
      "cell_type": "code",
      "execution_count": null,
      "metadata": {
        "colab": {
          "base_uri": "https://localhost:8080/"
        },
        "id": "W-DK5Mg5f6Ht",
        "outputId": "b6ecb6b7-effc-4322-d009-1ed38774e17d"
      },
      "outputs": [
        {
          "output_type": "stream",
          "name": "stdout",
          "text": [
            "69/69 [==============================] - 3s 29ms/step\n",
            "              precision    recall  f1-score   support\n",
            "\n",
            "           0       0.87      0.77      0.82       680\n",
            "           1       0.79      0.81      0.80       239\n",
            "           2       0.89      0.93      0.91      1281\n",
            "\n",
            "    accuracy                           0.87      2200\n",
            "   macro avg       0.85      0.84      0.84      2200\n",
            "weighted avg       0.87      0.87      0.87      2200\n",
            "\n"
          ]
        }
      ],
      "source": [
        "predictions = model.predict(x_test)\n",
        "y_preds = predictions\n",
        "matrix_new = metrics.classification_report(y_test.argmax(axis=1), y_preds.argmax(axis=1))\n",
        "print(matrix_new)"
      ]
    },
    {
      "cell_type": "code",
      "execution_count": null,
      "metadata": {
        "colab": {
          "base_uri": "https://localhost:8080/"
        },
        "id": "ONhcY6lrgunM",
        "outputId": "05ad4a02-0f98-4fcb-912d-3b43580d795d"
      },
      "outputs": [
        {
          "output_type": "stream",
          "name": "stdout",
          "text": [
            "Epoch 1/10\n",
            "704/704 [==============================] - 275s 388ms/step - loss: 0.4810 - categorical_accuracy: 0.8089 - val_loss: 0.3496 - val_categorical_accuracy: 0.8653\n",
            "Epoch 2/10\n",
            "704/704 [==============================] - 270s 383ms/step - loss: 0.2419 - categorical_accuracy: 0.9091 - val_loss: 0.3193 - val_categorical_accuracy: 0.8807\n",
            "Epoch 3/10\n",
            "704/704 [==============================] - 282s 401ms/step - loss: 0.1538 - categorical_accuracy: 0.9412 - val_loss: 0.3606 - val_categorical_accuracy: 0.8676\n",
            "69/69 [==============================] - 4s 52ms/step\n",
            "Number of training 1\n",
            "              precision    recall  f1-score   support\n",
            "\n",
            "           0       0.87      0.77      0.82       680\n",
            "           1       0.79      0.81      0.80       239\n",
            "           2       0.89      0.93      0.91      1281\n",
            "\n",
            "    accuracy                           0.87      2200\n",
            "   macro avg       0.85      0.84      0.84      2200\n",
            "weighted avg       0.87      0.87      0.87      2200\n",
            "\n",
            "-------------------------------------------------------------------\n",
            "Epoch 1/10\n",
            "704/704 [==============================] - 269s 377ms/step - loss: 0.5424 - categorical_accuracy: 0.8004 - val_loss: 0.3537 - val_categorical_accuracy: 0.8739\n",
            "Epoch 2/10\n",
            "704/704 [==============================] - 270s 383ms/step - loss: 0.2692 - categorical_accuracy: 0.9060 - val_loss: 0.3754 - val_categorical_accuracy: 0.8500\n",
            "69/69 [==============================] - 2s 22ms/step\n",
            "Number of training 2\n",
            "              precision    recall  f1-score   support\n",
            "\n",
            "           0       0.87      0.77      0.82       680\n",
            "           1       0.79      0.81      0.80       239\n",
            "           2       0.89      0.93      0.91      1281\n",
            "\n",
            "    accuracy                           0.87      2200\n",
            "   macro avg       0.85      0.84      0.84      2200\n",
            "weighted avg       0.87      0.87      0.87      2200\n",
            "\n",
            "-------------------------------------------------------------------\n",
            "Epoch 1/10\n",
            "704/704 [==============================] - 268s 377ms/step - loss: 0.5008 - categorical_accuracy: 0.7945 - val_loss: 0.3726 - val_categorical_accuracy: 0.8551\n",
            "Epoch 2/10\n",
            "704/704 [==============================] - 271s 384ms/step - loss: 0.2590 - categorical_accuracy: 0.9074 - val_loss: 0.3721 - val_categorical_accuracy: 0.8597\n",
            "Epoch 3/10\n",
            "704/704 [==============================] - 262s 373ms/step - loss: 0.1677 - categorical_accuracy: 0.9419 - val_loss: 0.4349 - val_categorical_accuracy: 0.8727\n",
            "69/69 [==============================] - 4s 28ms/step\n",
            "Number of training 3\n",
            "              precision    recall  f1-score   support\n",
            "\n",
            "           0       0.87      0.77      0.82       680\n",
            "           1       0.79      0.81      0.80       239\n",
            "           2       0.89      0.93      0.91      1281\n",
            "\n",
            "    accuracy                           0.87      2200\n",
            "   macro avg       0.85      0.84      0.84      2200\n",
            "weighted avg       0.87      0.87      0.87      2200\n",
            "\n",
            "-------------------------------------------------------------------\n",
            "Epoch 1/10\n",
            "704/704 [==============================] - 305s 431ms/step - loss: 0.5617 - categorical_accuracy: 0.7825 - val_loss: 0.3636 - val_categorical_accuracy: 0.8750\n",
            "Epoch 2/10\n",
            "704/704 [==============================] - 301s 427ms/step - loss: 0.2835 - categorical_accuracy: 0.8973 - val_loss: 0.3143 - val_categorical_accuracy: 0.8841\n",
            "Epoch 3/10\n",
            "704/704 [==============================] - 305s 433ms/step - loss: 0.1807 - categorical_accuracy: 0.9361 - val_loss: 0.3536 - val_categorical_accuracy: 0.8807\n",
            "69/69 [==============================] - 2s 23ms/step\n",
            "Number of training 4\n",
            "              precision    recall  f1-score   support\n",
            "\n",
            "           0       0.87      0.77      0.82       680\n",
            "           1       0.79      0.81      0.80       239\n",
            "           2       0.89      0.93      0.91      1281\n",
            "\n",
            "    accuracy                           0.87      2200\n",
            "   macro avg       0.85      0.84      0.84      2200\n",
            "weighted avg       0.87      0.87      0.87      2200\n",
            "\n",
            "-------------------------------------------------------------------\n",
            "Epoch 1/10\n",
            "704/704 [==============================] - 273s 385ms/step - loss: 0.4997 - categorical_accuracy: 0.8075 - val_loss: 0.3402 - val_categorical_accuracy: 0.8744\n",
            "Epoch 2/10\n",
            "704/704 [==============================] - 271s 385ms/step - loss: 0.2652 - categorical_accuracy: 0.9040 - val_loss: 0.3174 - val_categorical_accuracy: 0.8784\n",
            "Epoch 3/10\n",
            "704/704 [==============================] - 266s 378ms/step - loss: 0.1756 - categorical_accuracy: 0.9384 - val_loss: 0.3631 - val_categorical_accuracy: 0.8790\n",
            "69/69 [==============================] - 2s 23ms/step\n",
            "Number of training 5\n",
            "              precision    recall  f1-score   support\n",
            "\n",
            "           0       0.87      0.77      0.82       680\n",
            "           1       0.79      0.81      0.80       239\n",
            "           2       0.89      0.93      0.91      1281\n",
            "\n",
            "    accuracy                           0.87      2200\n",
            "   macro avg       0.85      0.84      0.84      2200\n",
            "weighted avg       0.87      0.87      0.87      2200\n",
            "\n",
            "-------------------------------------------------------------------\n",
            "\n",
            "\n",
            "\n",
            "Average accuracy : 0.8600909090909091\n"
          ]
        }
      ],
      "source": [
        "kf = KFold(n_splits=5, random_state=42, shuffle=True)\n",
        "\n",
        "accuracies = []\n",
        "\n",
        "for iteration, data in enumerate(kf.split(x), start=1):\n",
        "  data_train = x[data[0]]\n",
        "  target_train = y[data[0]]\n",
        "\n",
        "  data_test = x[data[1]]\n",
        "  target_test = y[data[1]]\n",
        "\n",
        "  model = tf.keras.Sequential([\n",
        "    tf.keras.layers.Embedding(input_dim=100000, output_dim=128),\n",
        "    tf.keras.layers.LSTM(64, dropout=0.2), #to delete 2% from 64\n",
        "    tf.keras.layers.Dense(8, activation='relu'),\n",
        "    #when biner(1 or 0) activation is sigmoid , because morethan 2 then is softmax\n",
        "    tf.keras.layers.Dense(3, activation='softmax')\n",
        "  ])\n",
        "\n",
        "  callbacks = EarlyStopping(monitor='val_loss', mode='min', verbose=0)\n",
        "\n",
        "  #optimizer\n",
        "  optimizer = keras.optimizers.Adam(learning_rate=0.001)\n",
        "\n",
        "  #model compile\n",
        "  #use categorical_crossentropy because we have 3 sentiment, if 2 sentiment we use binary_crossentrophy\n",
        "  model.compile(loss='categorical_crossentropy', optimizer=optimizer,\n",
        "                metrics=['categorical_accuracy']) #calclute accuracy for data training\n",
        "\n",
        "  num_epochs = 10 #1000\n",
        "  fit = model.fit(x_train,\n",
        "                y_train,\n",
        "                batch_size = 10,\n",
        "                epochs=num_epochs,\n",
        "                validation_data=(x_val, y_val),\n",
        "                callbacks = [callbacks]\n",
        "  )\n",
        "\n",
        "  predictions1 = model.predict(x_test)\n",
        "  y_preds1 = predictions1\n",
        "  accuracy = accuracy_score(y_test.argmax(axis=1), y_preds1.argmax(axis=1))\n",
        "\n",
        "  print(\"Number of training\", iteration)\n",
        "  print(classification_report(y_test.argmax(axis=1), y_preds.argmax(axis=1)))\n",
        "  print(\"-------------------------------------------------------------------\")\n",
        "\n",
        "  accuracies.append(accuracy)\n",
        "\n",
        "average_accuracy = np.mean(accuracies)\n",
        "\n",
        "print()\n",
        "print()\n",
        "print()\n",
        "print(\"Average accuracy :\", average_accuracy)"
      ]
    },
    {
      "cell_type": "code",
      "execution_count": null,
      "metadata": {
        "colab": {
          "base_uri": "https://localhost:8080/",
          "height": 469
        },
        "id": "5qqP9xXbkP01",
        "outputId": "1c26f107-a18a-4333-dd77-9b413705de92"
      },
      "outputs": [
        {
          "output_type": "display_data",
          "data": {
            "text/plain": [
              "<Figure size 1200x500 with 2 Axes>"
            ],
            "image/png": "[encoded data removed]"
          },
          "metadata": {}
        }
      ],
      "source": [
        "plt.style.use('ggplot')\n",
        "\n",
        "def plot_result(fit):\n",
        "  acc = fit.history['categorical_accuracy']\n",
        "  val_acc = fit.history['val_categorical_accuracy']\n",
        "  loss = fit.history['loss']\n",
        "  val_loss = fit.history['val_loss']\n",
        "  x = range(1, len(acc) + 1)\n",
        "\n",
        "  plt.figure(figsize=(12, 5))\n",
        "  plt.subplot(1, 2, 1)\n",
        "  plt.plot(x, acc, 'b', label='Training acc')\n",
        "  plt.plot(x, val_acc, 'r', label='Validation acc')\n",
        "  plt.title('Training and validation accuracy')\n",
        "  plt.legend()\n",
        "  plt.subplot(1, 2, 2)\n",
        "  plt.plot(x, loss, 'b', label='Training loss')\n",
        "  plt.plot(x, val_loss, 'r', label='Validation loss')\n",
        "  plt.title('Training and Validation loss')\n",
        "  plt.legend()\n",
        "\n",
        "%matplotlib inline\n",
        "plot_result(fit)"
      ]
    },
    {
      "cell_type": "code",
      "execution_count": null,
      "metadata": {
        "id": "0STl5fzorXHN"
      },
      "outputs": [],
      "source": [
        "filename = 'model.h5'\n",
        "model.save(filename)"
      ]
    },
    {
      "cell_type": "markdown",
      "metadata": {
        "id": "J2HtHbdSn3mA"
      },
      "source": [
        "**PREDICTION**"
      ]
    },
    {
      "cell_type": "code",
      "execution_count": null,
      "metadata": {
        "colab": {
          "base_uri": "https://localhost:8080/"
        },
        "id": "wtxirOXxnmVJ",
        "outputId": "2dbc3ebb-ee61-4bd3-beb3-a6b5bf92dd55"
      },
      "outputs": [
        {
          "output_type": "stream",
          "name": "stdout",
          "text": [
            "1/1 [==============================] - 1s 577ms/step\n",
            "Text :    saya sangat suk4a makan di rest7aurant itu karena makanannya enak enak \n",
            "Sentiment : positive\n"
          ]
        }
      ],
      "source": [
        "original_text =  '''\n",
        "@saya sangat suk4a makan di rest7aurant itu karena makanannya enak-enak\n",
        "'''\n",
        "\n",
        "#cleaning_data\n",
        "def cleansing(string):\n",
        "  string = cleaning_data(string)\n",
        "\n",
        "  return string\n",
        "\n",
        "\n",
        "sentiment = ['negative', 'neutral', 'positive']\n",
        "\n",
        "text = [cleansing(original_text)]\n",
        "predicted = tokenizer.texts_to_sequences(text)\n",
        "# Padding change token to matrix/vector\n",
        "choice = pad_sequences(predicted)\n",
        "\n",
        "model=load_model('model.h5')\n",
        "prediction = model.predict(choice)\n",
        "polarity = np.argmax(prediction[0])\n",
        "\n",
        "print(\"Text :\", text[0])\n",
        "print(\"Sentiment :\", sentiment[polarity])"
      ]
    },
    {
      "cell_type": "code",
      "execution_count": null,
      "metadata": {
        "id": "aOMIDJr0kLRj"
      },
      "outputs": [],
      "source": [
        "# dia suka membaca buku pengetahuan Negative"
      ]
    },
    {
      "cell_type": "code",
      "execution_count": null,
      "metadata": {
        "id": "OeU1t8Ao_sp3"
      },
      "outputs": [],
      "source": []
    }
  ],
  "metadata": {
    "colab": {
      "provenance": []
    },
    "kernelspec": {
      "display_name": "Python 3",
      "name": "python3"
    },
    "language_info": {
      "name": "python"
    }
  },
  "nbformat": 4,
  "nbformat_minor": 0
}