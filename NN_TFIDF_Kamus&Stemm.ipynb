{
  "cells": [
    {
      "cell_type": "code",
      "execution_count": null,
      "metadata": {
        "colab": {
          "base_uri": "https://localhost:8080/"
        },
        "id": "KBOV23IV7ENc",
        "outputId": "59f4cd19-3b26-4406-a521-678bc894def3"
      },
      "outputs": [
        {
          "name": "stdout",
          "output_type": "stream",
          "text": [
            "Collecting PySastrawi\n",
            "  Downloading PySastrawi-1.2.0-py2.py3-none-any.whl (210 kB)\n",
            "\u001b[?25l     \u001b[90m━━━━━━━━━━━━━━━━━━━━━━━━━━━━━━━━━━━━━━━━\u001b[0m \u001b[32m0.0/210.6 kB\u001b[0m \u001b[31m?\u001b[0m eta \u001b[36m-:--:--\u001b[0m\r\u001b[2K     \u001b[91m━━━━━━━━━━━━━━━━━━━━━━━━━━━━━━━━━━━━━\u001b[0m\u001b[91m╸\u001b[0m\u001b[90m━\u001b[0m \u001b[32m204.8/210.6 kB\u001b[0m \u001b[31m6.9 MB/s\u001b[0m eta \u001b[36m0:00:01\u001b[0m\r\u001b[2K     \u001b[90m━━━━━━━━━━━━━━━━━━━━━━━━━━━━━━━━━━━━━━━\u001b[0m \u001b[32m210.6/210.6 kB\u001b[0m \u001b[31m4.5 MB/s\u001b[0m eta \u001b[36m0:00:00\u001b[0m\n",
            "\u001b[?25hInstalling collected packages: PySastrawi\n",
            "Successfully installed PySastrawi-1.2.0\n"
          ]
        }
      ],
      "source": [
        "pip install PySastrawi"
      ]
    },
    {
      "cell_type": "code",
      "execution_count": null,
      "metadata": {
        "id": "p7ZEMB1U7KxK"
      },
      "outputs": [],
      "source": [
        "import pandas as pd\n",
        "import numpy as np\n",
        "import re\n",
        "import seaborn as sns\n",
        "import matplotlib.pyplot as plt\n",
        "import nltk\n",
        "import sklearn\n",
        "import keras\n",
        "import pickle\n",
        "import tensorflow.keras as keras\n",
        "from sklearn.metrics import classification_report\n",
        "from sklearn.neural_network import MLPClassifier\n",
        "from sklearn.preprocessing import LabelEncoder\n",
        "from sklearn.model_selection import train_test_split\n",
        "from tensorflow.keras.preprocessing.sequence import pad_sequences\n",
        "from keras.preprocessing.text import Tokenizer\n",
        "from tensorflow.keras.callbacks import EarlyStopping\n",
        "from tensorflow.keras.regularizers import l1\n",
        "from tensorflow.keras.regularizers import l2\n",
        "from tensorflow.keras.regularizers import L1L2\n",
        "from keras.optimizers import Adam, RMSprop, SGD\n",
        "from keras.wrappers.scikit_learn import KerasClassifier\n",
        "from sklearn.model_selection import KFold\n",
        "from keras.models import Sequential\n",
        "from keras.layers import Embedding, Dense, Dropout, LSTM\n",
        "from sklearn.metrics import accuracy_score\n",
        "from sklearn.metrics import confusion_matrix, ConfusionMatrixDisplay\n",
        "from sklearn.feature_extraction.text import CountVectorizer\n",
        "from sklearn.feature_extraction.text import TfidfVectorizer\n",
        "from nltk.tokenize import word_tokenize\n",
        "from nltk.tokenize import sent_tokenize\n",
        "from nltk.stem import WordNetLemmatizer\n",
        "from nltk.corpus import stopwords\n",
        "from sklearn.metrics import confusion_matrix\n",
        "from Sastrawi.Stemmer.StemmerFactory import StemmerFactory\n",
        "#from terbilang import Terbilang\n",
        "\n",
        "#t = Terbilang()\n",
        "#nltk.download('stopwords')\n",
        "#nltk.download('all')"
      ]
    },
    {
      "cell_type": "code",
      "execution_count": null,
      "metadata": {
        "id": "mR8R2fVj7Kzo"
      },
      "outputs": [],
      "source": [
        "#to print complete sentence\n",
        "pd.options.display.max_colwidth = 500"
      ]
    },
    {
      "cell_type": "code",
      "execution_count": null,
      "metadata": {
        "colab": {
          "base_uri": "https://localhost:8080/",
          "height": 206
        },
        "id": "tygk3w717K22",
        "outputId": "31cfd38d-e25d-4500-85f4-e882b512fbcf"
      },
      "outputs": [
        {
          "data": {
            "text/html": [
              "\n",
              "  <div id=\"df-e541b14f-748d-41ee-9e23-249ea02a9505\">\n",
              "    <div class=\"colab-df-container\">\n",
              "      <div>\n",
              "<style scoped>\n",
              "    .dataframe tbody tr th:only-of-type {\n",
              "        vertical-align: middle;\n",
              "    }\n",
              "\n",
              "    .dataframe tbody tr th {\n",
              "        vertical-align: top;\n",
              "    }\n",
              "\n",
              "    .dataframe thead th {\n",
              "        text-align: right;\n",
              "    }\n",
              "</style>\n",
              "<table border=\"1\" class=\"dataframe\">\n",
              "  <thead>\n",
              "    <tr style=\"text-align: right;\">\n",
              "      <th></th>\n",
              "      <th>old</th>\n",
              "      <th>new</th>\n",
              "    </tr>\n",
              "  </thead>\n",
              "  <tbody>\n",
              "    <tr>\n",
              "      <th>0</th>\n",
              "      <td>anakjakartaasikasik</td>\n",
              "      <td>anak jakarta asyik asyik</td>\n",
              "    </tr>\n",
              "    <tr>\n",
              "      <th>1</th>\n",
              "      <td>pakcikdahtua</td>\n",
              "      <td>pak cik sudah tua</td>\n",
              "    </tr>\n",
              "    <tr>\n",
              "      <th>2</th>\n",
              "      <td>pakcikmudalagi</td>\n",
              "      <td>pak cik muda lagi</td>\n",
              "    </tr>\n",
              "    <tr>\n",
              "      <th>3</th>\n",
              "      <td>t3tapjokowi</td>\n",
              "      <td>tetap jokowi</td>\n",
              "    </tr>\n",
              "    <tr>\n",
              "      <th>4</th>\n",
              "      <td>3x</td>\n",
              "      <td>tiga kali</td>\n",
              "    </tr>\n",
              "  </tbody>\n",
              "</table>\n",
              "</div>\n",
              "      <button class=\"colab-df-convert\" onclick=\"convertToInteractive('df-e541b14f-748d-41ee-9e23-249ea02a9505')\"\n",
              "              title=\"Convert this dataframe to an interactive table.\"\n",
              "              style=\"display:none;\">\n",
              "        \n",
              "  <svg xmlns=\"http://www.w3.org/2000/svg\" height=\"24px\"viewBox=\"0 0 24 24\"\n",
              "       width=\"24px\">\n",
              "    <path d=\"M0 0h24v24H0V0z\" fill=\"none\"/>\n",
              "    <path d=\"M18.56 5.44l.94 2.06.94-2.06 2.06-.94-2.06-.94-.94-2.06-.94 2.06-2.06.94zm-11 1L8.5 8.5l.94-2.06 2.06-.94-2.06-.94L8.5 2.5l-.94 2.06-2.06.94zm10 10l.94 2.06.94-2.06 2.06-.94-2.06-.94-.94-2.06-.94 2.06-2.06.94z\"/><path d=\"M17.41 7.96l-1.37-1.37c-.4-.4-.92-.59-1.43-.59-.52 0-1.04.2-1.43.59L10.3 9.45l-7.72 7.72c-.78.78-.78 2.05 0 2.83L4 21.41c.39.39.9.59 1.41.59.51 0 1.02-.2 1.41-.59l7.78-7.78 2.81-2.81c.8-.78.8-2.07 0-2.86zM5.41 20L4 18.59l7.72-7.72 1.47 1.35L5.41 20z\"/>\n",
              "  </svg>\n",
              "      </button>\n",
              "      \n",
              "  <style>\n",
              "    .colab-df-container {\n",
              "      display:flex;\n",
              "      flex-wrap:wrap;\n",
              "      gap: 12px;\n",
              "    }\n",
              "\n",
              "    .colab-df-convert {\n",
              "      background-color: #E8F0FE;\n",
              "      border: none;\n",
              "      border-radius: 50%;\n",
              "      cursor: pointer;\n",
              "      display: none;\n",
              "      fill: #1967D2;\n",
              "      height: 32px;\n",
              "      padding: 0 0 0 0;\n",
              "      width: 32px;\n",
              "    }\n",
              "\n",
              "    .colab-df-convert:hover {\n",
              "      background-color: #E2EBFA;\n",
              "      box-shadow: 0px 1px 2px rgba(60, 64, 67, 0.3), 0px 1px 3px 1px rgba(60, 64, 67, 0.15);\n",
              "      fill: #174EA6;\n",
              "    }\n",
              "\n",
              "    [theme=dark] .colab-df-convert {\n",
              "      background-color: #3B4455;\n",
              "      fill: #D2E3FC;\n",
              "    }\n",
              "\n",
              "    [theme=dark] .colab-df-convert:hover {\n",
              "      background-color: #434B5C;\n",
              "      box-shadow: 0px 1px 3px 1px rgba(0, 0, 0, 0.15);\n",
              "      filter: drop-shadow(0px 1px 2px rgba(0, 0, 0, 0.3));\n",
              "      fill: #FFFFFF;\n",
              "    }\n",
              "  </style>\n",
              "\n",
              "      <script>\n",
              "        const buttonEl =\n",
              "          document.querySelector('#df-e541b14f-748d-41ee-9e23-249ea02a9505 button.colab-df-convert');\n",
              "        buttonEl.style.display =\n",
              "          google.colab.kernel.accessAllowed ? 'block' : 'none';\n",
              "\n",
              "        async function convertToInteractive(key) {\n",
              "          const element = document.querySelector('#df-e541b14f-748d-41ee-9e23-249ea02a9505');\n",
              "          const dataTable =\n",
              "            await google.colab.kernel.invokeFunction('convertToInteractive',\n",
              "                                                     [key], {});\n",
              "          if (!dataTable) return;\n",
              "\n",
              "          const docLinkHtml = 'Like what you see? Visit the ' +\n",
              "            '<a target=\"_blank\" href=https://colab.research.google.com/notebooks/data_table.ipynb>data table notebook</a>'\n",
              "            + ' to learn more about interactive tables.';\n",
              "          element.innerHTML = '';\n",
              "          dataTable['output_type'] = 'display_data';\n",
              "          await google.colab.output.renderOutput(dataTable, element);\n",
              "          const docLink = document.createElement('div');\n",
              "          docLink.innerHTML = docLinkHtml;\n",
              "          element.appendChild(docLink);\n",
              "        }\n",
              "      </script>\n",
              "    </div>\n",
              "  </div>\n",
              "  "
            ],
            "text/plain": [
              "                   old                       new\n",
              "0  anakjakartaasikasik  anak jakarta asyik asyik\n",
              "1         pakcikdahtua         pak cik sudah tua\n",
              "2       pakcikmudalagi         pak cik muda lagi\n",
              "3          t3tapjokowi              tetap jokowi\n",
              "4                   3x                 tiga kali"
            ]
          },
          "execution_count": 7,
          "metadata": {},
          "output_type": "execute_result"
        }
      ],
      "source": [
        "#kamus\n",
        "df1 = pd.read_csv('new_kamusalay.csv', encoding =  'ISO-8859-1', names=['old','new'])\n",
        "df1.head()"
      ]
    },
    {
      "cell_type": "code",
      "execution_count": null,
      "metadata": {
        "id": "6vo4YtyO7K53"
      },
      "outputs": [],
      "source": [
        "file_path = \"train_preprocess.tsv.txt\"\n",
        "df = pd.read_csv(file_path, delimiter='\\t', names=[\"Tweet\", \"Sentimen\"])\n",
        "#print(type(df[\"data\"]))\n",
        "#print(df[\"data\"])"
      ]
    },
    {
      "cell_type": "markdown",
      "metadata": {
        "id": "z09T6GZ37U-4"
      },
      "source": [
        "**DATA CLEASING**"
      ]
    },
    {
      "cell_type": "code",
      "execution_count": null,
      "metadata": {
        "id": "Ruwye5ka7K8w"
      },
      "outputs": [],
      "source": [
        "def cleaning_data(text):\n",
        "    text = text.lower()\n",
        "    text=re.sub('url', '', text)\n",
        "    text = re.sub('url\\S+', '', text)\n",
        "    text=re.sub('http', '', text)\n",
        "    text = re.sub(r'http\\S+', '', text)\n",
        "    #text = re.sub(r'&', 'dan', text)\n",
        "    #text=re.sub(r'/', 'atau', text)\n",
        "    #text = re.sub(r'&amp', 'dan', text)\n",
        "    #text = re.sub(r'&lt;', '', text)\n",
        "    #text = re.sub(r'&gt;', '', text)\n",
        "    text = re.sub(r'%', ' persen', text)\n",
        "    text = re.sub(r' {2,}', ' ', text)\n",
        "    text=re.sub(r'(\\\\x(.){2})', '', text) #emoticon\n",
        "    text = re.sub(r'[^a-zA-Z0-9]', ' ', text)\n",
        "    return text\n"
      ]
    },
    {
      "cell_type": "markdown",
      "metadata": {
        "id": "dYEYjRqR7aw1"
      },
      "source": [
        "**NLP PROCESS**"
      ]
    },
    {
      "cell_type": "code",
      "execution_count": null,
      "metadata": {
        "id": "0ST5SHho7XWT"
      },
      "outputs": [],
      "source": [
        "# Reducing a word to its word stem that affixes to suffixes and prefixes or to the roots of words\n",
        "def stemmingText(text):\n",
        "    factory = StemmerFactory()\n",
        "    stemmer = factory.create_stemmer()\n",
        "    text = stemmer.stem(text)\n",
        "    #text = [stemmer.stem(word) for word in text]\n",
        "    return text\n",
        "\n",
        "#Convert list of words into sentence\n",
        "#def toSentence(list_words):\n",
        "#    sentence = ' '.join(word for word in list_words)\n",
        "#    return sentence"
      ]
    },
    {
      "cell_type": "code",
      "execution_count": null,
      "metadata": {
        "id": "R0hmD1Pp7XZY"
      },
      "outputs": [],
      "source": [
        "#split the data\n",
        "def convert(lst):\n",
        "    return ''.join(lst).split()"
      ]
    },
    {
      "cell_type": "code",
      "execution_count": null,
      "metadata": {
        "id": "dVj4Iaul7XdJ"
      },
      "outputs": [],
      "source": [
        "# check with kamus alay\n",
        "def filter_data(text):\n",
        "        result = \"\"\n",
        "        tweets = text\n",
        "        #print(tweets)\n",
        "        temp=[]\n",
        "        for tweet in tweets:\n",
        "            try:\n",
        "                trying = np.where(kamusalay['old']==tweet)[0][0]\n",
        "                tweet = kamusalay['new'].iloc[trying]\n",
        "            except:\n",
        "                tweet = tweet\n",
        "            #print(tweet)\n",
        "            temp.append(tweet)\n",
        "            result = result + \" \" + tweet\n",
        "        return result"
      ]
    },
    {
      "cell_type": "code",
      "execution_count": null,
      "metadata": {
        "id": "9Ok8NfC27Xhn"
      },
      "outputs": [],
      "source": [
        "df['ReviewTweet'] = df['Tweet'].apply(cleaning_data)\n",
        "df['ReviewTweet']=df['ReviewTweet'].apply(convert)\n",
        "df['ReviewTweet']=df['ReviewTweet'].apply(filter_data)\n",
        "df['ReviewTweet'] = df['ReviewTweet'].apply(stemmingText)"
      ]
    },
    {
      "cell_type": "code",
      "execution_count": null,
      "metadata": {
        "colab": {
          "base_uri": "https://localhost:8080/",
          "height": 354
        },
        "id": "ZtzhNEYc7Xkw",
        "outputId": "b66172e0-b859-47e4-de9d-4c5707b29559"
      },
      "outputs": [
        {
          "data": {
            "text/html": [
              "\n",
              "  <div id=\"df-a2d6978b-330c-4e8e-a528-4bb3b36f27d7\">\n",
              "    <div class=\"colab-df-container\">\n",
              "      <div>\n",
              "<style scoped>\n",
              "    .dataframe tbody tr th:only-of-type {\n",
              "        vertical-align: middle;\n",
              "    }\n",
              "\n",
              "    .dataframe tbody tr th {\n",
              "        vertical-align: top;\n",
              "    }\n",
              "\n",
              "    .dataframe thead th {\n",
              "        text-align: right;\n",
              "    }\n",
              "</style>\n",
              "<table border=\"1\" class=\"dataframe\">\n",
              "  <thead>\n",
              "    <tr style=\"text-align: right;\">\n",
              "      <th></th>\n",
              "      <th>Tweet</th>\n",
              "      <th>Sentimen</th>\n",
              "      <th>ReviewTweet</th>\n",
              "    </tr>\n",
              "  </thead>\n",
              "  <tbody>\n",
              "    <tr>\n",
              "      <th>0</th>\n",
              "      <td>warung ini dimiliki oleh pengusaha pabrik tahu yang sudah puluhan tahun terkenal membuat tahu putih di bandung . tahu berkualitas , dipadu keahlian memasak , dipadu kretivitas , jadilah warung yang menyajikan menu utama berbahan tahu , ditambah menu umum lain seperti ayam . semuanya selera indonesia . harga cukup terjangkau . jangan lewatkan tahu bletoka nya , tidak kalah dengan yang asli dari tegal !</td>\n",
              "      <td>positive</td>\n",
              "      <td>warung ini milik oleh usaha pabrik tahu yang sudah puluh tahun kenal buat tahu putih di bandung tahu kualitas padu ahli masak padu kretivitas jadi warung yang saji menu utama bahan tahu tambah menu umum lain seperti ayam semua selera indonesia harga cukup jangkau jangan lewat tahu bletoka nya tidak kalah dengan yang asli dari tegal</td>\n",
              "    </tr>\n",
              "    <tr>\n",
              "      <th>1</th>\n",
              "      <td>mohon ulama lurus dan k212 mmbri hujjah partai apa yang harus diwlh agar suara islam tidak pecah-pecah</td>\n",
              "      <td>neutral</td>\n",
              "      <td>mohon ulama lurus dan k212 mmbri hujjah partai apa yang harus diwlh agar suara islam tidak pecah pecah</td>\n",
              "    </tr>\n",
              "    <tr>\n",
              "      <th>2</th>\n",
              "      <td>lokasi strategis di jalan sumatera bandung . tempat nya nyaman terutama sofa di lantai 2 . paella nya enak , sangat pas dimakan dengan minum bir dingin . appetiser nya juga enak-enak .</td>\n",
              "      <td>positive</td>\n",
              "      <td>lokasi strategis di jalan sumatera bandung tempat nya nyaman utama sofa di lantai 2 paella nya enak sangat pas makan dengan minum bir dingin appetiser nya juga enak enak</td>\n",
              "    </tr>\n",
              "    <tr>\n",
              "      <th>3</th>\n",
              "      <td>betapa bahagia nya diri ini saat unboxing paket dan barang nya bagus ! menetapkan beli lagi !</td>\n",
              "      <td>positive</td>\n",
              "      <td>betapa bahagia nya diri ini saat unboxing paket dan barang nya bagus tetap beli lagi</td>\n",
              "    </tr>\n",
              "    <tr>\n",
              "      <th>4</th>\n",
              "      <td>duh . jadi mahasiswa jangan sombong dong . kasih kartu kuning segala . belajar dulu yang baik , tidak usahlah ikut-ikut politik . nanti sudah selesai kuliah nya mau ikut politik juga tidak telat . dasar mahasiswa .</td>\n",
              "      <td>negative</td>\n",
              "      <td>duh jadi mahasiswa jangan sombong dong kasih kartu kuning segala ajar dulu yang baik tidak usah ikut ikut politik nanti sudah selesai kuliah nya mau ikut politik juga tidak telat dasar mahasiswa</td>\n",
              "    </tr>\n",
              "  </tbody>\n",
              "</table>\n",
              "</div>\n",
              "      <button class=\"colab-df-convert\" onclick=\"convertToInteractive('df-a2d6978b-330c-4e8e-a528-4bb3b36f27d7')\"\n",
              "              title=\"Convert this dataframe to an interactive table.\"\n",
              "              style=\"display:none;\">\n",
              "        \n",
              "  <svg xmlns=\"http://www.w3.org/2000/svg\" height=\"24px\"viewBox=\"0 0 24 24\"\n",
              "       width=\"24px\">\n",
              "    <path d=\"M0 0h24v24H0V0z\" fill=\"none\"/>\n",
              "    <path d=\"M18.56 5.44l.94 2.06.94-2.06 2.06-.94-2.06-.94-.94-2.06-.94 2.06-2.06.94zm-11 1L8.5 8.5l.94-2.06 2.06-.94-2.06-.94L8.5 2.5l-.94 2.06-2.06.94zm10 10l.94 2.06.94-2.06 2.06-.94-2.06-.94-.94-2.06-.94 2.06-2.06.94z\"/><path d=\"M17.41 7.96l-1.37-1.37c-.4-.4-.92-.59-1.43-.59-.52 0-1.04.2-1.43.59L10.3 9.45l-7.72 7.72c-.78.78-.78 2.05 0 2.83L4 21.41c.39.39.9.59 1.41.59.51 0 1.02-.2 1.41-.59l7.78-7.78 2.81-2.81c.8-.78.8-2.07 0-2.86zM5.41 20L4 18.59l7.72-7.72 1.47 1.35L5.41 20z\"/>\n",
              "  </svg>\n",
              "      </button>\n",
              "      \n",
              "  <style>\n",
              "    .colab-df-container {\n",
              "      display:flex;\n",
              "      flex-wrap:wrap;\n",
              "      gap: 12px;\n",
              "    }\n",
              "\n",
              "    .colab-df-convert {\n",
              "      background-color: #E8F0FE;\n",
              "      border: none;\n",
              "      border-radius: 50%;\n",
              "      cursor: pointer;\n",
              "      display: none;\n",
              "      fill: #1967D2;\n",
              "      height: 32px;\n",
              "      padding: 0 0 0 0;\n",
              "      width: 32px;\n",
              "    }\n",
              "\n",
              "    .colab-df-convert:hover {\n",
              "      background-color: #E2EBFA;\n",
              "      box-shadow: 0px 1px 2px rgba(60, 64, 67, 0.3), 0px 1px 3px 1px rgba(60, 64, 67, 0.15);\n",
              "      fill: #174EA6;\n",
              "    }\n",
              "\n",
              "    [theme=dark] .colab-df-convert {\n",
              "      background-color: #3B4455;\n",
              "      fill: #D2E3FC;\n",
              "    }\n",
              "\n",
              "    [theme=dark] .colab-df-convert:hover {\n",
              "      background-color: #434B5C;\n",
              "      box-shadow: 0px 1px 3px 1px rgba(0, 0, 0, 0.15);\n",
              "      filter: drop-shadow(0px 1px 2px rgba(0, 0, 0, 0.3));\n",
              "      fill: #FFFFFF;\n",
              "    }\n",
              "  </style>\n",
              "\n",
              "      <script>\n",
              "        const buttonEl =\n",
              "          document.querySelector('#df-a2d6978b-330c-4e8e-a528-4bb3b36f27d7 button.colab-df-convert');\n",
              "        buttonEl.style.display =\n",
              "          google.colab.kernel.accessAllowed ? 'block' : 'none';\n",
              "\n",
              "        async function convertToInteractive(key) {\n",
              "          const element = document.querySelector('#df-a2d6978b-330c-4e8e-a528-4bb3b36f27d7');\n",
              "          const dataTable =\n",
              "            await google.colab.kernel.invokeFunction('convertToInteractive',\n",
              "                                                     [key], {});\n",
              "          if (!dataTable) return;\n",
              "\n",
              "          const docLinkHtml = 'Like what you see? Visit the ' +\n",
              "            '<a target=\"_blank\" href=https://colab.research.google.com/notebooks/data_table.ipynb>data table notebook</a>'\n",
              "            + ' to learn more about interactive tables.';\n",
              "          element.innerHTML = '';\n",
              "          dataTable['output_type'] = 'display_data';\n",
              "          await google.colab.output.renderOutput(dataTable, element);\n",
              "          const docLink = document.createElement('div');\n",
              "          docLink.innerHTML = docLinkHtml;\n",
              "          element.appendChild(docLink);\n",
              "        }\n",
              "      </script>\n",
              "    </div>\n",
              "  </div>\n",
              "  "
            ],
            "text/plain": [
              "                                                                                                                                                                                                                                                                                                                                                                                                                  Tweet  \\\n",
              "0  warung ini dimiliki oleh pengusaha pabrik tahu yang sudah puluhan tahun terkenal membuat tahu putih di bandung . tahu berkualitas , dipadu keahlian memasak , dipadu kretivitas , jadilah warung yang menyajikan menu utama berbahan tahu , ditambah menu umum lain seperti ayam . semuanya selera indonesia . harga cukup terjangkau . jangan lewatkan tahu bletoka nya , tidak kalah dengan yang asli dari tegal !   \n",
              "1                                                                                                                                                                                                                                                                                                                mohon ulama lurus dan k212 mmbri hujjah partai apa yang harus diwlh agar suara islam tidak pecah-pecah   \n",
              "2                                                                                                                                                                                                                              lokasi strategis di jalan sumatera bandung . tempat nya nyaman terutama sofa di lantai 2 . paella nya enak , sangat pas dimakan dengan minum bir dingin . appetiser nya juga enak-enak .   \n",
              "3                                                                                                                                                                                                                                                                                                                         betapa bahagia nya diri ini saat unboxing paket dan barang nya bagus ! menetapkan beli lagi !   \n",
              "4                                                                                                                                                                                                duh . jadi mahasiswa jangan sombong dong . kasih kartu kuning segala . belajar dulu yang baik , tidak usahlah ikut-ikut politik . nanti sudah selesai kuliah nya mau ikut politik juga tidak telat . dasar mahasiswa .   \n",
              "\n",
              "   Sentimen  \\\n",
              "0  positive   \n",
              "1   neutral   \n",
              "2  positive   \n",
              "3  positive   \n",
              "4  negative   \n",
              "\n",
              "                                                                                                                                                                                                                                                                                                                                     ReviewTweet  \n",
              "0  warung ini milik oleh usaha pabrik tahu yang sudah puluh tahun kenal buat tahu putih di bandung tahu kualitas padu ahli masak padu kretivitas jadi warung yang saji menu utama bahan tahu tambah menu umum lain seperti ayam semua selera indonesia harga cukup jangkau jangan lewat tahu bletoka nya tidak kalah dengan yang asli dari tegal  \n",
              "1                                                                                                                                                                                                                                         mohon ulama lurus dan k212 mmbri hujjah partai apa yang harus diwlh agar suara islam tidak pecah pecah  \n",
              "2                                                                                                                                                                      lokasi strategis di jalan sumatera bandung tempat nya nyaman utama sofa di lantai 2 paella nya enak sangat pas makan dengan minum bir dingin appetiser nya juga enak enak  \n",
              "3                                                                                                                                                                                                                                                           betapa bahagia nya diri ini saat unboxing paket dan barang nya bagus tetap beli lagi  \n",
              "4                                                                                                                                             duh jadi mahasiswa jangan sombong dong kasih kartu kuning segala ajar dulu yang baik tidak usah ikut ikut politik nanti sudah selesai kuliah nya mau ikut politik juga tidak telat dasar mahasiswa  "
            ]
          },
          "execution_count": 14,
          "metadata": {},
          "output_type": "execute_result"
        }
      ],
      "source": [
        "df.head()"
      ]
    },
    {
      "cell_type": "code",
      "execution_count": null,
      "metadata": {
        "id": "Dz0O6Z_NgICE"
      },
      "outputs": [],
      "source": [
        "#classes = df['Sentimen']\n",
        "#x = df['ReviewTweet'].tolist()\n"
      ]
    },
    {
      "cell_type": "code",
      "execution_count": null,
      "metadata": {
        "id": "8a4Z70bxgJXK"
      },
      "outputs": [],
      "source": [
        "# Split the data (with composition data train 80%, data test 20%)\n",
        "# Random state add\n",
        "#X_train, X_test, y_train, y_test = train_test_split(x, classes, test_size = 0.2, random_state = 42)\n",
        "#print(X_train.shape, y_train.shape)\n",
        "#print(X_test.shape, y_test.shape)\n",
        "\n"
      ]
    },
    {
      "cell_type": "code",
      "execution_count": null,
      "metadata": {
        "id": "W1bOiIsCgwGv"
      },
      "outputs": [],
      "source": [
        "#use TFIDF (TF-IDF)\n",
        "#data_preprocessed1 = X_train, X_test, y_train, y_test\n",
        "\n",
        "#vectorizerr = TfidfVectorizer()\n",
        "#vectorizerr.fit(data_preprocessed1)\n",
        "\n",
        "#X = vectorizerr.transform(data_preprocessed1)"
      ]
    },
    {
      "cell_type": "code",
      "execution_count": null,
      "metadata": {
        "colab": {
          "base_uri": "https://localhost:8080/"
        },
        "id": "cmp-Bs-W7lKX",
        "outputId": "e3491359-7dbb-4feb-b89f-0266d929ee85"
      },
      "outputs": [
        {
          "data": {
            "text/plain": [
              "(13170,)"
            ]
          },
          "execution_count": 16,
          "metadata": {},
          "output_type": "execute_result"
        }
      ],
      "source": [
        "#use TFIDF (TF-IDF)\n",
        "data_preprocessed1 = df['ReviewTweet'].tolist()\n",
        "\n",
        "vectorizerr = TfidfVectorizer(ngram_range = (1,1))\n",
        "vectorizerr.fit(data_preprocessed1)\n",
        "\n",
        "X = vectorizerr.transform(data_preprocessed1)\n",
        "X.toarray()[0].shape"
      ]
    },
    {
      "cell_type": "code",
      "execution_count": null,
      "metadata": {
        "id": "7P90mXmD7lNo"
      },
      "outputs": [],
      "source": [
        "#to save the model\n",
        "pickle.dump(vectorizerr, open('featureTFsatusatu.p','wb'))"
      ]
    },
    {
      "cell_type": "code",
      "execution_count": null,
      "metadata": {
        "id": "fxQ-DMzU7lSt"
      },
      "outputs": [],
      "source": [
        "classes = df['Sentimen']"
      ]
    },
    {
      "cell_type": "code",
      "execution_count": null,
      "metadata": {
        "colab": {
          "base_uri": "https://localhost:8080/"
        },
        "id": "vgJY8TEl7lVi",
        "outputId": "45bcbe45-32d9-4b95-a274-ff504d936e7a"
      },
      "outputs": [
        {
          "name": "stdout",
          "output_type": "stream",
          "text": [
            "  (0, 10180)\t0.12721520495277497\n",
            "  (0, 8422)\t0.14453142106349529\n",
            "  (0, 7221)\t0.23744556980878115\n",
            "  (0, 7188)\t0.15823750253080465\n",
            "  (0, 6630)\t0.27065985830335815\n",
            "  (0, 5468)\t0.6519277089126437\n",
            "  (0, 5459)\t0.12638289660296836\n",
            "  (0, 4131)\t0.24348831509445665\n",
            "  (0, 2856)\t0.11314606969352071\n",
            "  (0, 2837)\t0.07048968068201213\n",
            "  (0, 2022)\t0.18352475229259593\n",
            "  (0, 1219)\t0.3137257353761916\n",
            "  (0, 1124)\t0.16824850674413794\n",
            "  (0, 784)\t0.23124314914696886\n",
            "  (0, 752)\t0.27626944724097996\n",
            "  (1, 13050)\t0.07864871718516778\n",
            "  (1, 13022)\t0.17534496503858446\n",
            "  (1, 12558)\t0.11203643045644014\n",
            "  (1, 12108)\t0.2762311036728639\n",
            "  (1, 11771)\t0.21607302062053643\n",
            "  (1, 10850)\t0.18642291490299517\n",
            "  (1, 9696)\t0.5288086200423991\n",
            "  (1, 8236)\t0.07131201746189555\n",
            "  (1, 7810)\t0.19163959732560548\n",
            "  (1, 6972)\t0.30694326943185896\n",
            "  :\t:\n",
            "  (8799, 7499)\t0.1203553150045329\n",
            "  (8799, 7011)\t0.1621732697970908\n",
            "  (8799, 6971)\t0.09032377713747448\n",
            "  (8799, 6666)\t0.16248550512061274\n",
            "  (8799, 5740)\t0.08506575208597973\n",
            "  (8799, 5500)\t0.11355590268396516\n",
            "  (8799, 5188)\t0.1039701154468448\n",
            "  (8799, 5129)\t0.10071081957559748\n",
            "  (8799, 4916)\t0.0966534581099725\n",
            "  (8799, 4839)\t0.17500812063985638\n",
            "  (8799, 4550)\t0.18408128077002234\n",
            "  (8799, 4219)\t0.0845688293808715\n",
            "  (8799, 4046)\t0.17155866525077873\n",
            "  (8799, 3516)\t0.052212092430394194\n",
            "  (8799, 3115)\t0.11139051908731758\n",
            "  (8799, 2967)\t0.1030713443503795\n",
            "  (8799, 2873)\t0.11478572677408526\n",
            "  (8799, 2856)\t0.06458857711286763\n",
            "  (8799, 2837)\t0.12071550135299855\n",
            "  (8799, 2314)\t0.2060294600213735\n",
            "  (8799, 1762)\t0.21510262015153944\n",
            "  (8799, 1234)\t0.06730991577591623\n",
            "  (8799, 1011)\t0.1790879604260493\n",
            "  (8799, 517)\t0.11568867442216577\n",
            "  (8799, 422)\t0.05922273885886275\n"
          ]
        }
      ],
      "source": [
        "# Split the data (with composition data train 80%, data test 20%)\n",
        "X_train, X_test, y_train, y_test = train_test_split(X, classes, test_size = 0.2)\n",
        "print(X_train)\n",
        "# print(X_test.shape, y_test.shape)"
      ]
    },
    {
      "cell_type": "code",
      "execution_count": null,
      "metadata": {
        "id": "2bFvZ8u07lZF"
      },
      "outputs": [],
      "source": [
        "model = MLPClassifier(learning_rate='constant', learning_rate_init=0.001)\n",
        "model = model.fit(X_train, y_train)"
      ]
    },
    {
      "cell_type": "code",
      "execution_count": null,
      "metadata": {
        "id": "4lQDUSZA7ldC"
      },
      "outputs": [],
      "source": [
        "#to save the model\n",
        "pickle.dump(model, open('model-sentimentTFIDF.p','wb'))"
      ]
    },
    {
      "cell_type": "code",
      "execution_count": null,
      "metadata": {
        "colab": {
          "base_uri": "https://localhost:8080/"
        },
        "id": "QZPGMrFQ8Cu1",
        "outputId": "b3621e2e-6847-4d00-8769-99cb9f696439"
      },
      "outputs": [
        {
          "name": "stdout",
          "output_type": "stream",
          "text": [
            "              precision    recall  f1-score   support\n",
            "\n",
            "    negative       0.80      0.78      0.79       681\n",
            "     neutral       0.77      0.67      0.72       231\n",
            "    positive       0.88      0.91      0.90      1288\n",
            "\n",
            "    accuracy                           0.85      2200\n",
            "   macro avg       0.82      0.79      0.80      2200\n",
            "weighted avg       0.85      0.85      0.85      2200\n",
            "\n"
          ]
        }
      ],
      "source": [
        "test = model.predict(X_test)\n",
        "\n",
        "print(classification_report(y_test, test))"
      ]
    },
    {
      "cell_type": "code",
      "execution_count": null,
      "metadata": {
        "colab": {
          "background_save": true,
          "base_uri": "https://localhost:8080/"
        },
        "id": "J8qFA6zw8CyU",
        "outputId": "87a0a88a-f53e-4847-fcdc-eddfc8bfe71b"
      },
      "outputs": [
        {
          "name": "stdout",
          "output_type": "stream",
          "text": [
            "Training ke- 1\n",
            "              precision    recall  f1-score   support\n",
            "\n",
            "    negative       0.78      0.78      0.78       680\n",
            "     neutral       0.81      0.72      0.76       239\n",
            "    positive       0.88      0.90      0.89      1281\n",
            "\n",
            "    accuracy                           0.84      2200\n",
            "   macro avg       0.82      0.80      0.81      2200\n",
            "weighted avg       0.84      0.84      0.84      2200\n",
            "\n",
            "_______________________________________\n",
            "Training ke- 2\n",
            "              precision    recall  f1-score   support\n",
            "\n",
            "    negative       0.80      0.76      0.78       706\n",
            "     neutral       0.72      0.72      0.72       220\n",
            "    positive       0.87      0.90      0.89      1274\n",
            "\n",
            "    accuracy                           0.83      2200\n",
            "   macro avg       0.80      0.79      0.79      2200\n",
            "weighted avg       0.83      0.83      0.83      2200\n",
            "\n",
            "_______________________________________\n",
            "Training ke- 3\n",
            "              precision    recall  f1-score   support\n",
            "\n",
            "    negative       0.77      0.78      0.78       682\n",
            "     neutral       0.78      0.73      0.75       215\n",
            "    positive       0.89      0.89      0.89      1303\n",
            "\n",
            "    accuracy                           0.84      2200\n",
            "   macro avg       0.81      0.80      0.81      2200\n",
            "weighted avg       0.84      0.84      0.84      2200\n",
            "\n",
            "_______________________________________\n",
            "Training ke- 4\n",
            "              precision    recall  f1-score   support\n",
            "\n",
            "    negative       0.78      0.79      0.78       698\n",
            "     neutral       0.80      0.70      0.75       229\n",
            "    positive       0.88      0.90      0.89      1273\n",
            "\n",
            "    accuracy                           0.84      2200\n",
            "   macro avg       0.82      0.80      0.81      2200\n",
            "weighted avg       0.84      0.84      0.84      2200\n",
            "\n",
            "_______________________________________\n",
            "Training ke- 5\n",
            "              precision    recall  f1-score   support\n",
            "\n",
            "    negative       0.76      0.82      0.79       670\n",
            "     neutral       0.78      0.63      0.70       245\n",
            "    positive       0.90      0.89      0.89      1285\n",
            "\n",
            "    accuracy                           0.84      2200\n",
            "   macro avg       0.81      0.78      0.79      2200\n",
            "weighted avg       0.84      0.84      0.84      2200\n",
            "\n",
            "_______________________________________\n",
            "\n",
            "\n",
            "\n",
            "Average accuracy : 0.8407272727272728\n"
          ]
        }
      ],
      "source": [
        "kf = KFold(n_splits=5, random_state=42, shuffle=True)\n",
        "\n",
        "accuracies = []\n",
        "\n",
        "\n",
        "for iteration, data1 in enumerate(kf.split(X), start=1):\n",
        "  data_train = X[data1[0]]\n",
        "  target_train = classes[data1[0]]\n",
        "\n",
        "  data_test = X[data1[1]]\n",
        "  target_test = classes[data1[1]]\n",
        "\n",
        "  clf = MLPClassifier(learning_rate='constant', learning_rate_init=0.001)\n",
        "  clf.fit(data_train, target_train)\n",
        "\n",
        "  preds = clf.predict(data_test)\n",
        "\n",
        "  accuracy = accuracy_score(target_test, preds)\n",
        "\n",
        "  print(\"Training ke-\", iteration)\n",
        "  print(classification_report(target_test, preds))\n",
        "  print(\"_______________________________________\")\n",
        "\n",
        "  accuracies.append(accuracy)\n",
        "\n",
        "average_accuracy = np.mean(accuracies)\n",
        "\n",
        "print()\n",
        "print()\n",
        "print()\n",
        "print(\"Average accuracy :\", average_accuracy)"
      ]
    },
    {
      "cell_type": "code",
      "execution_count": null,
      "metadata": {
        "colab": {
          "background_save": true
        },
        "id": "M7aONFBh8C1y",
        "outputId": "eecae145-edbd-4fda-9af5-64cda24ea324"
      },
      "outputs": [
        {
          "name": "stdout",
          "output_type": "stream",
          "text": [
            "Sentiment:\n",
            "\n",
            "positive\n"
          ]
        }
      ],
      "source": [
        "# prediction\n",
        "original_text =  '''\n",
        "saya suka makan di restoran itu karena makanannya enak enak\n",
        "'''\n",
        "\n",
        "# Feature Extraction\n",
        "text = vectorizerr.transform([cleaning_data(original_text)])\n",
        "\n",
        "#print(text) #0, 14410\n",
        "\n",
        "# predict the sentiment\n",
        "result = model.predict(text)[0]\n",
        "print(\"Sentiment:\")\n",
        "print()\n",
        "print(result)\n"
      ]
    },
    {
      "cell_type": "code",
      "execution_count": null,
      "metadata": {
        "colab": {
          "base_uri": "https://localhost:8080/",
          "height": 449
        },
        "id": "Rm1ottBX9W58",
        "outputId": "32eb7310-0d9e-4528-8f11-96ec1a8fa106"
      },
      "outputs": [
        {
          "data": {
            "image/png": "[encoded data removed]",
            "text/plain": [
              "<Figure size 640x480 with 2 Axes>"
            ]
          },
          "metadata": {},
          "output_type": "display_data"
        }
      ],
      "source": [
        "cm = confusion_matrix(y_test, test, labels=clf.classes_)\n",
        "disp = ConfusionMatrixDisplay(confusion_matrix=cm, display_labels=clf.classes_)\n",
        "disp.plot()\n",
        "plt.show()"
      ]
    }
  ],
  "metadata": {
    "colab": {
      "provenance": []
    },
    "kernelspec": {
      "display_name": "Python 3",
      "name": "python3"
    },
    "language_info": {
      "name": "python"
    }
  },
  "nbformat": 4,
  "nbformat_minor": 0
}